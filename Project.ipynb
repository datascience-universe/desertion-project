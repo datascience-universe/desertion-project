{
  "nbformat": 4,
  "nbformat_minor": 0,
  "metadata": {
    "colab": {
      "name": "Project.ipynb",
      "provenance": [],
      "collapsed_sections": [
        "STKNOQPNsfQu"
      ],
      "include_colab_link": true
    },
    "kernelspec": {
      "name": "python3",
      "display_name": "Python 3"
    }
  },
  "cells": [
    {
      "cell_type": "markdown",
      "metadata": {
        "id": "view-in-github",
        "colab_type": "text"
      },
      "source": [
        "<a href=\"https://colab.research.google.com/github/datascience-universe/desertion-project/blob/main/Project.ipynb\" target=\"_parent\"><img src=\"https://colab.research.google.com/assets/colab-badge.svg\" alt=\"Open In Colab\"/></a>"
      ]
    },
    {
      "cell_type": "markdown",
      "metadata": {
        "id": "STKNOQPNsfQu"
      },
      "source": [
        "### HABILITAR PARA TRABAJO LOCAL QUITANDO LOS SIMBOLOS (#)\r\n"
      ]
    },
    {
      "cell_type": "code",
      "metadata": {
        "id": "zXfDcxr5soXP"
      },
      "source": [
        "#HABILITAR ESTE COMANDO PARA TRABAJAR LOCALMENTE\r\n",
        "#import pandas as pd\r\n",
        "#df = pd.read_excel('db.xlsx')"
      ],
      "execution_count": null,
      "outputs": []
    },
    {
      "cell_type": "markdown",
      "metadata": {
        "id": "RLxbQ4tVtA1W"
      },
      "source": [
        "### HABILITAR PARA TRABAJO EN GOOGLE COLAB QUITANDO LOS SIMBOLOS #"
      ]
    },
    {
      "cell_type": "markdown",
      "metadata": {
        "id": "m4g5RO74gxci"
      },
      "source": [
        "**# PASO INICIAL PARA MONTAR LA UNIDAD DE GOOGLE DRIVE (UBICACION DE DOCUMENTOS EN LA UNIDAD)**"
      ]
    },
    {
      "cell_type": "code",
      "metadata": {
        "colab": {
          "base_uri": "https://localhost:8080/"
        },
        "id": "5I4a_SNUe7xS",
        "outputId": "d6712a52-d08a-47e8-e6fe-c9f3fbe176be"
      },
      "source": [
        "from google.colab import drive\r\n",
        "drive.mount('/content/drive')\r\n",
        "from google.colab import files\r\n",
        "excel_path = '/content/drive/MyDrive/Projecto/Data/BD.xlsx'"
      ],
      "execution_count": 76,
      "outputs": [
        {
          "output_type": "stream",
          "text": [
            "Drive already mounted at /content/drive; to attempt to forcibly remount, call drive.mount(\"/content/drive\", force_remount=True).\n"
          ],
          "name": "stdout"
        }
      ]
    },
    {
      "cell_type": "markdown",
      "metadata": {
        "id": "77jzI4mSrc9K"
      },
      "source": [
        "# **PROYECTO DE DESERCION**"
      ]
    },
    {
      "cell_type": "markdown",
      "metadata": {
        "id": "5SiM0HACgwTU"
      },
      "source": [
        "### BLOQUE DE IMPORTACION DE PAQUETES\r\n",
        "\r\n",
        "\r\n",
        "\r\n",
        "\r\n"
      ]
    },
    {
      "cell_type": "markdown",
      "metadata": {
        "id": "JTZ78QHosLj0"
      },
      "source": [
        "EXTERNOS"
      ]
    },
    {
      "cell_type": "code",
      "metadata": {
        "id": "ODC_AjHjsIuF"
      },
      "source": [
        "import pandas as pd\r\n"
      ],
      "execution_count": 77,
      "outputs": []
    },
    {
      "cell_type": "markdown",
      "metadata": {
        "id": "LLbftO0KsW49"
      },
      "source": [
        "INTERNOS"
      ]
    },
    {
      "cell_type": "code",
      "metadata": {
        "id": "C61QnjkNsHic"
      },
      "source": [
        ""
      ],
      "execution_count": null,
      "outputs": []
    },
    {
      "cell_type": "markdown",
      "metadata": {
        "id": "-SE1YG4kt3WX"
      },
      "source": [
        "# ANALISIS EXPLORATORIO"
      ]
    },
    {
      "cell_type": "markdown",
      "metadata": {
        "id": "1vcCiFQRuRL1"
      },
      "source": [
        "CREACION DEL DATAFRAME"
      ]
    },
    {
      "cell_type": "code",
      "metadata": {
        "colab": {
          "base_uri": "https://localhost:8080/",
          "height": 384
        },
        "id": "GJYoQeEiFx9j",
        "outputId": "784edd64-03bd-4f06-c8fe-db086ab4ee8e"
      },
      "source": [
        "df = pd.read_excel(excel_path)\r\n",
        "df.head(3)"
      ],
      "execution_count": 78,
      "outputs": [
        {
          "output_type": "execute_result",
          "data": {
            "text/html": [
              "<div>\n",
              "<style scoped>\n",
              "    .dataframe tbody tr th:only-of-type {\n",
              "        vertical-align: middle;\n",
              "    }\n",
              "\n",
              "    .dataframe tbody tr th {\n",
              "        vertical-align: top;\n",
              "    }\n",
              "\n",
              "    .dataframe thead th {\n",
              "        text-align: right;\n",
              "    }\n",
              "</style>\n",
              "<table border=\"1\" class=\"dataframe\">\n",
              "  <thead>\n",
              "    <tr style=\"text-align: right;\">\n",
              "      <th></th>\n",
              "      <th>Codcli</th>\n",
              "      <th>PEM</th>\n",
              "      <th>NOMBRE_CARRERA</th>\n",
              "      <th>Tipo_Programa</th>\n",
              "      <th>Participacion_Curso_Induccion</th>\n",
              "      <th>Forma_Pago</th>\n",
              "      <th>Porc_Beca</th>\n",
              "      <th>Nivel_Cognitivo</th>\n",
              "      <th>Nivel_Instrumental</th>\n",
              "      <th>Nivel_Socioafectivo</th>\n",
              "      <th>Hom_Conv</th>\n",
              "      <th>Estado_Civil</th>\n",
              "      <th>Tramo_Renta</th>\n",
              "      <th>Cargo</th>\n",
              "      <th>Area_Trabajo</th>\n",
              "      <th>Ppal_Forma_Financiamiento</th>\n",
              "      <th>Conoc_IACC</th>\n",
              "      <th>Conoc_Plan_Estudios</th>\n",
              "      <th>Conoc_Perfil_Egreso</th>\n",
              "      <th>Anos_Ultimos_Estudios</th>\n",
              "      <th>Promedio_Media</th>\n",
              "      <th>Tipo_Establecimiento_Media</th>\n",
              "      <th>Entero_IACC</th>\n",
              "      <th>Conoc_PPT</th>\n",
              "      <th>Futuro_Profesional</th>\n",
              "      <th>confidence(No Desertor)</th>\n",
              "      <th>confidence(Desertor)</th>\n",
              "      <th>Etiqueta_Predicha</th>\n",
              "      <th>Etiqueta_Real</th>\n",
              "      <th>Marca</th>\n",
              "      <th>Edad_Contestar_Kat</th>\n",
              "      <th>Sexo_Kat</th>\n",
              "      <th>Estado_Civil_Kat</th>\n",
              "      <th>Tiene_Hijos_Kat</th>\n",
              "      <th>Nivel_estudios_padre_Kat</th>\n",
              "      <th>Nivel_estudios_madre_Kat</th>\n",
              "      <th>trabajo_remunerado_Kat</th>\n",
              "      <th>tramo_renta_Kat</th>\n",
              "      <th>cargo_Kat</th>\n",
              "      <th>area_trabaja_Kat</th>\n",
              "      <th>...</th>\n",
              "      <th>cuanto_sabe_plan_estudios_Kat</th>\n",
              "      <th>Cuanto_sabe_perfil_egreso_kat</th>\n",
              "      <th>Cuanto_sabe_empleabilidad_Kat</th>\n",
              "      <th>horario_conectarse_Kat</th>\n",
              "      <th>tiene_titulo_profesional_Kat</th>\n",
              "      <th>tiene_estudios_incompletos_Kat</th>\n",
              "      <th>años_ultima_vez_estudios_formales_Kat</th>\n",
              "      <th>año_egreso_enseñanza_media_Kat</th>\n",
              "      <th>promedio_enseñanza_media_Kat</th>\n",
              "      <th>tipo_establecimiento_media_Kat</th>\n",
              "      <th>como_entero_IACC_Kat</th>\n",
              "      <th>BD_programacion_Kat</th>\n",
              "      <th>Word_Kat</th>\n",
              "      <th>Excel_Kat</th>\n",
              "      <th>Presentaciones_PPT_Kat</th>\n",
              "      <th>Multimedia_Kat</th>\n",
              "      <th>apoyo_academico_Kat</th>\n",
              "      <th>futuro_profesional_kat</th>\n",
              "      <th>experiencia_E.S.</th>\n",
              "      <th>Ingreso al aula el estudiante</th>\n",
              "      <th>Participacion_1</th>\n",
              "      <th>Participacion_2</th>\n",
              "      <th>Participacion_3</th>\n",
              "      <th>Participacion_4</th>\n",
              "      <th>Participacion_5</th>\n",
              "      <th>Participacion_6</th>\n",
              "      <th>Participacion_7</th>\n",
              "      <th>Participacion_8</th>\n",
              "      <th>Participacion_9</th>\n",
              "      <th>Prom_part</th>\n",
              "      <th>Nota_1</th>\n",
              "      <th>Nota_2</th>\n",
              "      <th>Nota_3</th>\n",
              "      <th>Nota_4</th>\n",
              "      <th>Nota_5</th>\n",
              "      <th>Nota_6</th>\n",
              "      <th>Nota_7</th>\n",
              "      <th>Nota_8</th>\n",
              "      <th>Nota_9</th>\n",
              "      <th>Nota_prom</th>\n",
              "    </tr>\n",
              "  </thead>\n",
              "  <tbody>\n",
              "    <tr>\n",
              "      <th>0</th>\n",
              "      <td>20203PCIAE065</td>\n",
              "      <td>2020-03-31</td>\n",
              "      <td>PROGRAMA DE CONTINUIDAD EN INGENIERÍA EN ADMIN...</td>\n",
              "      <td>CONTINUIDAD</td>\n",
              "      <td>Participa en a lo menos una actividad</td>\n",
              "      <td>CONTADO</td>\n",
              "      <td>0.3</td>\n",
              "      <td>3. MEDIO</td>\n",
              "      <td>3. MEDIO</td>\n",
              "      <td>3. MEDIO</td>\n",
              "      <td>SI</td>\n",
              "      <td>NaN</td>\n",
              "      <td>NaN</td>\n",
              "      <td>NaN</td>\n",
              "      <td>NaN</td>\n",
              "      <td>NaN</td>\n",
              "      <td>NaN</td>\n",
              "      <td>NaN</td>\n",
              "      <td>NaN</td>\n",
              "      <td>NaN</td>\n",
              "      <td>NaN</td>\n",
              "      <td>NaN</td>\n",
              "      <td>NaN</td>\n",
              "      <td>NaN</td>\n",
              "      <td>NaN</td>\n",
              "      <td>0.533886</td>\n",
              "      <td>0.466114</td>\n",
              "      <td>No Desertor</td>\n",
              "      <td>No Desertor</td>\n",
              "      <td>x</td>\n",
              "      <td>NaN</td>\n",
              "      <td>NaN</td>\n",
              "      <td>NaN</td>\n",
              "      <td>NaN</td>\n",
              "      <td>NaN</td>\n",
              "      <td>NaN</td>\n",
              "      <td>NaN</td>\n",
              "      <td>NaN</td>\n",
              "      <td>NaN</td>\n",
              "      <td>NaN</td>\n",
              "      <td>...</td>\n",
              "      <td>NaN</td>\n",
              "      <td>NaN</td>\n",
              "      <td>NaN</td>\n",
              "      <td>NaN</td>\n",
              "      <td>NaN</td>\n",
              "      <td>NaN</td>\n",
              "      <td>NaN</td>\n",
              "      <td>NaN</td>\n",
              "      <td>NaN</td>\n",
              "      <td>NaN</td>\n",
              "      <td>NaN</td>\n",
              "      <td>NaN</td>\n",
              "      <td>NaN</td>\n",
              "      <td>NaN</td>\n",
              "      <td>NaN</td>\n",
              "      <td>NaN</td>\n",
              "      <td>NaN</td>\n",
              "      <td>NaN</td>\n",
              "      <td>NaN</td>\n",
              "      <td>Ingreso al aula de todas sus asignaturas</td>\n",
              "      <td>1.0</td>\n",
              "      <td>1.0</td>\n",
              "      <td>1.0</td>\n",
              "      <td>1.0</td>\n",
              "      <td>1.0</td>\n",
              "      <td>1.0</td>\n",
              "      <td>1.0</td>\n",
              "      <td>1.0</td>\n",
              "      <td>1.0</td>\n",
              "      <td>1.0</td>\n",
              "      <td>8.2</td>\n",
              "      <td>8.85</td>\n",
              "      <td>9.0</td>\n",
              "      <td>8.4</td>\n",
              "      <td>8.35</td>\n",
              "      <td>8.50</td>\n",
              "      <td>7.85</td>\n",
              "      <td>8.65</td>\n",
              "      <td>26.0</td>\n",
              "      <td>6.5660</td>\n",
              "    </tr>\n",
              "    <tr>\n",
              "      <th>1</th>\n",
              "      <td>20203PCIND101</td>\n",
              "      <td>2020-03-31</td>\n",
              "      <td>PROGRAMA DE CONTINUIDAD EN INGENIERÍA INDUSTRIAL</td>\n",
              "      <td>CONTINUIDAD</td>\n",
              "      <td>No ha participado</td>\n",
              "      <td>CHEQUE</td>\n",
              "      <td>0.3</td>\n",
              "      <td>NaN</td>\n",
              "      <td>NaN</td>\n",
              "      <td>NaN</td>\n",
              "      <td>SI</td>\n",
              "      <td>Casado</td>\n",
              "      <td>600.001 a 800.000</td>\n",
              "      <td>Asistente/Administrativo</td>\n",
              "      <td>Industrial</td>\n",
              "      <td>Recursos Propios.</td>\n",
              "      <td>Mucho</td>\n",
              "      <td>Poco</td>\n",
              "      <td>Poco</td>\n",
              "      <td>1 Año</td>\n",
              "      <td>4.5</td>\n",
              "      <td>Municipal</td>\n",
              "      <td>Google</td>\n",
              "      <td>Nivel Medio</td>\n",
              "      <td>Optar a un mejor cargo o sueldo en nuevo trabajo</td>\n",
              "      <td>0.774788</td>\n",
              "      <td>0.225212</td>\n",
              "      <td>No Desertor</td>\n",
              "      <td>No Desertor</td>\n",
              "      <td>x</td>\n",
              "      <td>38.0</td>\n",
              "      <td>Masculino</td>\n",
              "      <td>Casado</td>\n",
              "      <td>1 Hijo</td>\n",
              "      <td>Media</td>\n",
              "      <td>Media</td>\n",
              "      <td>SI</td>\n",
              "      <td>600.001 a 800.000</td>\n",
              "      <td>Asistente/Administrativo</td>\n",
              "      <td>Industrial</td>\n",
              "      <td>...</td>\n",
              "      <td>Poco</td>\n",
              "      <td>Poco</td>\n",
              "      <td>Nada</td>\n",
              "      <td>Entre las 18:00 a 23:00 horas.</td>\n",
              "      <td>SI</td>\n",
              "      <td>NO</td>\n",
              "      <td>1 Año</td>\n",
              "      <td>2001</td>\n",
              "      <td>4.5</td>\n",
              "      <td>Municipal</td>\n",
              "      <td>Google</td>\n",
              "      <td>Nivel Básico</td>\n",
              "      <td>Nivel Medio</td>\n",
              "      <td>Nivel Medio</td>\n",
              "      <td>Nivel Medio</td>\n",
              "      <td>Nivel Medio</td>\n",
              "      <td>Orientación Profesional.</td>\n",
              "      <td>Optar a un mejor cargo o sueldo en nuevo trabajo</td>\n",
              "      <td>Sí</td>\n",
              "      <td>Ingreso al aula de todas sus asignaturas</td>\n",
              "      <td>1.0</td>\n",
              "      <td>1.0</td>\n",
              "      <td>1.0</td>\n",
              "      <td>1.0</td>\n",
              "      <td>1.0</td>\n",
              "      <td>1.0</td>\n",
              "      <td>1.0</td>\n",
              "      <td>1.0</td>\n",
              "      <td>1.0</td>\n",
              "      <td>1.0</td>\n",
              "      <td>8.0</td>\n",
              "      <td>9.00</td>\n",
              "      <td>8.5</td>\n",
              "      <td>9.0</td>\n",
              "      <td>9.00</td>\n",
              "      <td>8.75</td>\n",
              "      <td>9.00</td>\n",
              "      <td>9.00</td>\n",
              "      <td>27.5</td>\n",
              "      <td>6.8425</td>\n",
              "    </tr>\n",
              "    <tr>\n",
              "      <th>2</th>\n",
              "      <td>20203PCIAE011</td>\n",
              "      <td>2020-03-31</td>\n",
              "      <td>PROGRAMA DE CONTINUIDAD EN INGENIERÍA EN ADMIN...</td>\n",
              "      <td>CONTINUIDAD</td>\n",
              "      <td>Participa en a lo menos una actividad</td>\n",
              "      <td>CHEQUE</td>\n",
              "      <td>0.3</td>\n",
              "      <td>3. MEDIO</td>\n",
              "      <td>4. MEDIO ALTO</td>\n",
              "      <td>4. MEDIO ALTO</td>\n",
              "      <td>SI</td>\n",
              "      <td>Casado</td>\n",
              "      <td>600.001 a 800.000</td>\n",
              "      <td>Supervisor</td>\n",
              "      <td>Administración/Comercio/Retail</td>\n",
              "      <td>Recursos Propios.</td>\n",
              "      <td>Poco</td>\n",
              "      <td>Poco</td>\n",
              "      <td>Poco</td>\n",
              "      <td>1 Año</td>\n",
              "      <td>5.5</td>\n",
              "      <td>Particular Subvencionado</td>\n",
              "      <td>Google</td>\n",
              "      <td>Nivel Básico</td>\n",
              "      <td>Mejorar cargo o remuneraciones en trabajo actual</td>\n",
              "      <td>0.914460</td>\n",
              "      <td>0.085540</td>\n",
              "      <td>No Desertor</td>\n",
              "      <td>No Desertor</td>\n",
              "      <td>x</td>\n",
              "      <td>36.0</td>\n",
              "      <td>Masculino</td>\n",
              "      <td>Casado</td>\n",
              "      <td>Sin Hijos</td>\n",
              "      <td>Básica</td>\n",
              "      <td>Básica</td>\n",
              "      <td>SI</td>\n",
              "      <td>600.001 a 800.000</td>\n",
              "      <td>Supervisor</td>\n",
              "      <td>Administración/Comercio/Retail</td>\n",
              "      <td>...</td>\n",
              "      <td>Poco</td>\n",
              "      <td>Poco</td>\n",
              "      <td>Nada</td>\n",
              "      <td>Entre las 18:00 a 23:00 horas.</td>\n",
              "      <td>SI</td>\n",
              "      <td>NO</td>\n",
              "      <td>1 Año</td>\n",
              "      <td>1997</td>\n",
              "      <td>5.5</td>\n",
              "      <td>Particular Subvencionado</td>\n",
              "      <td>Google</td>\n",
              "      <td>Nivel Básico</td>\n",
              "      <td>Nivel Básico</td>\n",
              "      <td>Nivel Básico</td>\n",
              "      <td>Nivel Básico</td>\n",
              "      <td>Nivel Básico</td>\n",
              "      <td>Orientación Profesional.</td>\n",
              "      <td>Mejorar cargo o remuneraciones en trabajo actual</td>\n",
              "      <td>Sí</td>\n",
              "      <td>Ingreso al aula de todas sus asignaturas</td>\n",
              "      <td>1.0</td>\n",
              "      <td>1.0</td>\n",
              "      <td>1.0</td>\n",
              "      <td>1.0</td>\n",
              "      <td>1.0</td>\n",
              "      <td>1.0</td>\n",
              "      <td>1.0</td>\n",
              "      <td>1.0</td>\n",
              "      <td>1.0</td>\n",
              "      <td>1.0</td>\n",
              "      <td>8.6</td>\n",
              "      <td>8.35</td>\n",
              "      <td>9.0</td>\n",
              "      <td>9.0</td>\n",
              "      <td>8.80</td>\n",
              "      <td>9.00</td>\n",
              "      <td>8.60</td>\n",
              "      <td>8.65</td>\n",
              "      <td>27.5</td>\n",
              "      <td>6.8250</td>\n",
              "    </tr>\n",
              "  </tbody>\n",
              "</table>\n",
              "<p>3 rows × 87 columns</p>\n",
              "</div>"
            ],
            "text/plain": [
              "          Codcli        PEM  ... Nota_9 Nota_prom\n",
              "0  20203PCIAE065 2020-03-31  ...   26.0    6.5660\n",
              "1  20203PCIND101 2020-03-31  ...   27.5    6.8425\n",
              "2  20203PCIAE011 2020-03-31  ...   27.5    6.8250\n",
              "\n",
              "[3 rows x 87 columns]"
            ]
          },
          "metadata": {
            "tags": []
          },
          "execution_count": 78
        }
      ]
    },
    {
      "cell_type": "code",
      "metadata": {
        "colab": {
          "base_uri": "https://localhost:8080/"
        },
        "id": "Whvy4LT-hVhD",
        "outputId": "ee0c479a-360a-4eb9-e9f3-3f25cee1f99e"
      },
      "source": [
        "df.info()\r\n",
        "\r\n"
      ],
      "execution_count": 79,
      "outputs": [
        {
          "output_type": "stream",
          "text": [
            "<class 'pandas.core.frame.DataFrame'>\n",
            "RangeIndex: 9405 entries, 0 to 9404\n",
            "Data columns (total 87 columns):\n",
            " #   Column                                 Non-Null Count  Dtype         \n",
            "---  ------                                 --------------  -----         \n",
            " 0   Codcli                                 9405 non-null   object        \n",
            " 1   PEM                                    9405 non-null   datetime64[ns]\n",
            " 2   NOMBRE_CARRERA                         9405 non-null   object        \n",
            " 3   Tipo_Programa                          9405 non-null   object        \n",
            " 4   Participacion_Curso_Induccion          9319 non-null   object        \n",
            " 5   Forma_Pago                             9248 non-null   object        \n",
            " 6   Porc_Beca                              9248 non-null   float64       \n",
            " 7   Nivel_Cognitivo                        7208 non-null   object        \n",
            " 8   Nivel_Instrumental                     7208 non-null   object        \n",
            " 9   Nivel_Socioafectivo                    6355 non-null   object        \n",
            " 10  Hom_Conv                               9398 non-null   object        \n",
            " 11  Estado_Civil                           4993 non-null   object        \n",
            " 12  Tramo_Renta                            4993 non-null   object        \n",
            " 13  Cargo                                  4993 non-null   object        \n",
            " 14  Area_Trabajo                           4993 non-null   object        \n",
            " 15  Ppal_Forma_Financiamiento              4993 non-null   object        \n",
            " 16  Conoc_IACC                             4993 non-null   object        \n",
            " 17  Conoc_Plan_Estudios                    4993 non-null   object        \n",
            " 18  Conoc_Perfil_Egreso                    4993 non-null   object        \n",
            " 19  Anos_Ultimos_Estudios                  4993 non-null   object        \n",
            " 20  Promedio_Media                         4993 non-null   float64       \n",
            " 21  Tipo_Establecimiento_Media             4993 non-null   object        \n",
            " 22  Entero_IACC                            4993 non-null   object        \n",
            " 23  Conoc_PPT                              4993 non-null   object        \n",
            " 24  Futuro_Profesional                     4993 non-null   object        \n",
            " 25  confidence(No Desertor)                9405 non-null   float64       \n",
            " 26  confidence(Desertor)                   9405 non-null   float64       \n",
            " 27  Etiqueta_Predicha                      9405 non-null   object        \n",
            " 28  Etiqueta_Real                          9405 non-null   object        \n",
            " 29  Marca                                  9405 non-null   object        \n",
            " 30  Edad_Contestar_Kat                     6649 non-null   float64       \n",
            " 31  Sexo_Kat                               6649 non-null   object        \n",
            " 32  Estado_Civil_Kat                       6649 non-null   object        \n",
            " 33  Tiene_Hijos_Kat                        6649 non-null   object        \n",
            " 34  Nivel_estudios_padre_Kat               6649 non-null   object        \n",
            " 35  Nivel_estudios_madre_Kat               6649 non-null   object        \n",
            " 36  trabajo_remunerado_Kat                 6649 non-null   object        \n",
            " 37  tramo_renta_Kat                        6649 non-null   object        \n",
            " 38  cargo_Kat                              6649 non-null   object        \n",
            " 39  area_trabaja_Kat                       6649 non-null   object        \n",
            " 40  ppal_forma_financiamiento_Kat          6649 non-null   object        \n",
            " 41  evaluo_otras_instituciones_Kat         6649 non-null   object        \n",
            " 42  ppal_institucion_evaluada_Kat          6649 non-null   object        \n",
            " 43  evaluo_otras_modalidades_Kat           6649 non-null   object        \n",
            " 44  Cuanto_sabe_IACC_Kat                   6649 non-null   object        \n",
            " 45  Cuanto_sabe_modalidad_Kat              6649 non-null   object        \n",
            " 46  Cuanto_sabe_nivel_exigencia_Kat        6649 non-null   object        \n",
            " 47  cuanto_sabe_plan_estudios_Kat          6649 non-null   object        \n",
            " 48  Cuanto_sabe_perfil_egreso_kat          6649 non-null   object        \n",
            " 49  Cuanto_sabe_empleabilidad_Kat          6649 non-null   object        \n",
            " 50  horario_conectarse_Kat                 6649 non-null   object        \n",
            " 51  tiene_titulo_profesional_Kat           6649 non-null   object        \n",
            " 52  tiene_estudios_incompletos_Kat         6649 non-null   object        \n",
            " 53  años_ultima_vez_estudios_formales_Kat  6649 non-null   object        \n",
            " 54  año_egreso_enseñanza_media_Kat         6649 non-null   object        \n",
            " 55  promedio_enseñanza_media_Kat           6649 non-null   float64       \n",
            " 56  tipo_establecimiento_media_Kat         6649 non-null   object        \n",
            " 57  como_entero_IACC_Kat                   6649 non-null   object        \n",
            " 58  BD_programacion_Kat                    6649 non-null   object        \n",
            " 59  Word_Kat                               6649 non-null   object        \n",
            " 60  Excel_Kat                              6649 non-null   object        \n",
            " 61  Presentaciones_PPT_Kat                 6649 non-null   object        \n",
            " 62  Multimedia_Kat                         6649 non-null   object        \n",
            " 63  apoyo_academico_Kat                    6649 non-null   object        \n",
            " 64  futuro_profesional_kat                 6649 non-null   object        \n",
            " 65  experiencia_E.S.                       6649 non-null   object        \n",
            " 66  Ingreso al aula el estudiante          9405 non-null   object        \n",
            " 67  Participacion_1                        9405 non-null   float64       \n",
            " 68  Participacion_2                        9405 non-null   float64       \n",
            " 69  Participacion_3                        9405 non-null   float64       \n",
            " 70  Participacion_4                        9405 non-null   float64       \n",
            " 71  Participacion_5                        9405 non-null   float64       \n",
            " 72  Participacion_6                        9405 non-null   float64       \n",
            " 73  Participacion_7                        9405 non-null   float64       \n",
            " 74  Participacion_8                        9405 non-null   float64       \n",
            " 75  Participacion_9                        9405 non-null   float64       \n",
            " 76  Prom_part                              9193 non-null   float64       \n",
            " 77  Nota_1                                 9405 non-null   float64       \n",
            " 78  Nota_2                                 9405 non-null   float64       \n",
            " 79  Nota_3                                 9405 non-null   float64       \n",
            " 80  Nota_4                                 9405 non-null   float64       \n",
            " 81  Nota_5                                 9405 non-null   float64       \n",
            " 82  Nota_6                                 9405 non-null   float64       \n",
            " 83  Nota_7                                 9405 non-null   float64       \n",
            " 84  Nota_8                                 9405 non-null   float64       \n",
            " 85  Nota_9                                 9405 non-null   float64       \n",
            " 86  Nota_prom                              8623 non-null   float64       \n",
            "dtypes: datetime64[ns](1), float64(26), object(60)\n",
            "memory usage: 6.2+ MB\n"
          ],
          "name": "stdout"
        }
      ]
    },
    {
      "cell_type": "markdown",
      "metadata": {
        "id": "YkN8XOdcvWk_"
      },
      "source": [
        "TRAMIENTO DE LAS COLUMNAS"
      ]
    },
    {
      "cell_type": "markdown",
      "metadata": {
        "id": "TN_HY5CM8IFa"
      },
      "source": [
        "#Tratativa das colunas"
      ]
    },
    {
      "cell_type": "code",
      "metadata": {
        "id": "PEyo61v48aLj"
      },
      "source": [
        "def exploracion_de_datos(df):\r\n",
        "    \"\"\"funcion que toma por argumento el DataFrame y \r\n",
        "    genera un objeto de tipo DataFrame con detalles de \r\n",
        "    los datos agregando una columna llamada descripcion \r\n",
        "    donde se detallaran cada variable \"\"\"\r\n",
        "\r\n",
        "    \r\n",
        "    columns = ['Variable','Tipo_variable','Valores_nulos','%_nulos' ,'Ejemplo', 'Definicion' ]\r\n",
        "    definicion = ['' for i in range(len(df))]\r\n",
        "    # Get the columns into a list\r\n",
        "    variables = list(df.columns)\r\n",
        "  \r\n",
        "    # Iterate over each dtypes to get variables type []\r\n",
        "    variable_type = [ 'Cualitativa' if col_type == 'object' else 'Numerica' if col_type == 'float64' else 'Hora-Fecha' if col_type == 'datetime64[ns]' else 'unknow' for col_type in df.dtypes ]\r\n",
        "    \r\n",
        "    # get nulls of every variable\r\n",
        "    null_count = list(df.isnull().sum())\r\n",
        "\r\n",
        "    # get nulls of every variable\r\n",
        "    porcentaje_de_nulos = round(df.isnull().sum()*100 / len(df),0)\r\n",
        "    porcentaje_de_nulos.astype('int32')\r\n",
        "    # get value not null of a random row\r\n",
        "    ejemplar_no_nulo = list(df[:1000].dropna(axis=0).iloc[0])\r\n",
        "           \r\n",
        "    # zip all the lists in to a master list and then convert into a DataFrame\r\n",
        "    ejemplar = list(zip(variables,variable_type,null_count,porcentaje_de_nulos, ejemplar_no_nulo, definicion))\r\n",
        "\r\n",
        "    # Initialize empty DataFrame: data\r\n",
        "    general_data_frame = pd.DataFrame(ejemplar, columns=columns)\r\n",
        "    \r\n",
        "    #Export to Excel in Drive\r\n",
        "    general_data_frame.to_excel('/content/drive/MyDrive/Projecto/Descripcion_de_datos.xlsx')\r\n",
        "\r\n",
        "    # return \r\n",
        "    return general_data_frame\r\n",
        "\r\n",
        "\r\n",
        "\r\n",
        "\r\n",
        "      \r\n",
        "\r\n",
        "    "
      ],
      "execution_count": 74,
      "outputs": []
    },
    {
      "cell_type": "code",
      "metadata": {
        "id": "gYeAqHaxNbaF"
      },
      "source": [
        "df_description = exploracion_de_datos(df)\r\n"
      ],
      "execution_count": 75,
      "outputs": []
    },
    {
      "cell_type": "markdown",
      "metadata": {
        "id": "s3er7Bht8Axy"
      },
      "source": [
        "#Eliminar variables con valores nulos mayores a 30%"
      ]
    },
    {
      "cell_type": "code",
      "metadata": {
        "id": "bRs_Ni6s8Ks_"
      },
      "source": [
        "a_eliminar = ['Estado_Civil',\r\n",
        "'Tramo_Renta',\r\n",
        "'Cargo',\r\n",
        "'Area_Trabajo',\r\n",
        "'Ppal_Forma_Financiamiento',\r\n",
        "'Conoc_IACC',\r\n",
        "'Conoc_Plan_Estudios',\r\n",
        "'Conoc_Perfil_Egreso',\r\n",
        "'Anos_Ultimos_Estudios',\r\n",
        "'Promedio_Media',\r\n",
        "'Tipo_Establecimiento_Media',\r\n",
        "'Entero_IACC',\r\n",
        "'Conoc_PPT',\r\n",
        "'Futuro_Profesional']"
      ],
      "execution_count": 81,
      "outputs": []
    },
    {
      "cell_type": "code",
      "metadata": {
        "colab": {
          "base_uri": "https://localhost:8080/"
        },
        "id": "LspWvyu58dYf",
        "outputId": "af08961d-c5bd-458c-c3a3-30fc4bc1dde0"
      },
      "source": [
        "verificacion = df.drop(a_eliminar, axis=1, inplace=False)\r\n",
        "verificacion.info()"
      ],
      "execution_count": 83,
      "outputs": [
        {
          "output_type": "stream",
          "text": [
            "<class 'pandas.core.frame.DataFrame'>\n",
            "RangeIndex: 9405 entries, 0 to 9404\n",
            "Data columns (total 73 columns):\n",
            " #   Column                                 Non-Null Count  Dtype         \n",
            "---  ------                                 --------------  -----         \n",
            " 0   Codcli                                 9405 non-null   object        \n",
            " 1   PEM                                    9405 non-null   datetime64[ns]\n",
            " 2   NOMBRE_CARRERA                         9405 non-null   object        \n",
            " 3   Tipo_Programa                          9405 non-null   object        \n",
            " 4   Participacion_Curso_Induccion          9319 non-null   object        \n",
            " 5   Forma_Pago                             9248 non-null   object        \n",
            " 6   Porc_Beca                              9248 non-null   float64       \n",
            " 7   Nivel_Cognitivo                        7208 non-null   object        \n",
            " 8   Nivel_Instrumental                     7208 non-null   object        \n",
            " 9   Nivel_Socioafectivo                    6355 non-null   object        \n",
            " 10  Hom_Conv                               9398 non-null   object        \n",
            " 11  confidence(No Desertor)                9405 non-null   float64       \n",
            " 12  confidence(Desertor)                   9405 non-null   float64       \n",
            " 13  Etiqueta_Predicha                      9405 non-null   object        \n",
            " 14  Etiqueta_Real                          9405 non-null   object        \n",
            " 15  Marca                                  9405 non-null   object        \n",
            " 16  Edad_Contestar_Kat                     6649 non-null   float64       \n",
            " 17  Sexo_Kat                               6649 non-null   object        \n",
            " 18  Estado_Civil_Kat                       6649 non-null   object        \n",
            " 19  Tiene_Hijos_Kat                        6649 non-null   object        \n",
            " 20  Nivel_estudios_padre_Kat               6649 non-null   object        \n",
            " 21  Nivel_estudios_madre_Kat               6649 non-null   object        \n",
            " 22  trabajo_remunerado_Kat                 6649 non-null   object        \n",
            " 23  tramo_renta_Kat                        6649 non-null   object        \n",
            " 24  cargo_Kat                              6649 non-null   object        \n",
            " 25  area_trabaja_Kat                       6649 non-null   object        \n",
            " 26  ppal_forma_financiamiento_Kat          6649 non-null   object        \n",
            " 27  evaluo_otras_instituciones_Kat         6649 non-null   object        \n",
            " 28  ppal_institucion_evaluada_Kat          6649 non-null   object        \n",
            " 29  evaluo_otras_modalidades_Kat           6649 non-null   object        \n",
            " 30  Cuanto_sabe_IACC_Kat                   6649 non-null   object        \n",
            " 31  Cuanto_sabe_modalidad_Kat              6649 non-null   object        \n",
            " 32  Cuanto_sabe_nivel_exigencia_Kat        6649 non-null   object        \n",
            " 33  cuanto_sabe_plan_estudios_Kat          6649 non-null   object        \n",
            " 34  Cuanto_sabe_perfil_egreso_kat          6649 non-null   object        \n",
            " 35  Cuanto_sabe_empleabilidad_Kat          6649 non-null   object        \n",
            " 36  horario_conectarse_Kat                 6649 non-null   object        \n",
            " 37  tiene_titulo_profesional_Kat           6649 non-null   object        \n",
            " 38  tiene_estudios_incompletos_Kat         6649 non-null   object        \n",
            " 39  años_ultima_vez_estudios_formales_Kat  6649 non-null   object        \n",
            " 40  año_egreso_enseñanza_media_Kat         6649 non-null   object        \n",
            " 41  promedio_enseñanza_media_Kat           6649 non-null   float64       \n",
            " 42  tipo_establecimiento_media_Kat         6649 non-null   object        \n",
            " 43  como_entero_IACC_Kat                   6649 non-null   object        \n",
            " 44  BD_programacion_Kat                    6649 non-null   object        \n",
            " 45  Word_Kat                               6649 non-null   object        \n",
            " 46  Excel_Kat                              6649 non-null   object        \n",
            " 47  Presentaciones_PPT_Kat                 6649 non-null   object        \n",
            " 48  Multimedia_Kat                         6649 non-null   object        \n",
            " 49  apoyo_academico_Kat                    6649 non-null   object        \n",
            " 50  futuro_profesional_kat                 6649 non-null   object        \n",
            " 51  experiencia_E.S.                       6649 non-null   object        \n",
            " 52  Ingreso al aula el estudiante          9405 non-null   object        \n",
            " 53  Participacion_1                        9405 non-null   float64       \n",
            " 54  Participacion_2                        9405 non-null   float64       \n",
            " 55  Participacion_3                        9405 non-null   float64       \n",
            " 56  Participacion_4                        9405 non-null   float64       \n",
            " 57  Participacion_5                        9405 non-null   float64       \n",
            " 58  Participacion_6                        9405 non-null   float64       \n",
            " 59  Participacion_7                        9405 non-null   float64       \n",
            " 60  Participacion_8                        9405 non-null   float64       \n",
            " 61  Participacion_9                        9405 non-null   float64       \n",
            " 62  Prom_part                              9193 non-null   float64       \n",
            " 63  Nota_1                                 9405 non-null   float64       \n",
            " 64  Nota_2                                 9405 non-null   float64       \n",
            " 65  Nota_3                                 9405 non-null   float64       \n",
            " 66  Nota_4                                 9405 non-null   float64       \n",
            " 67  Nota_5                                 9405 non-null   float64       \n",
            " 68  Nota_6                                 9405 non-null   float64       \n",
            " 69  Nota_7                                 9405 non-null   float64       \n",
            " 70  Nota_8                                 9405 non-null   float64       \n",
            " 71  Nota_9                                 9405 non-null   float64       \n",
            " 72  Nota_prom                              8623 non-null   float64       \n",
            "dtypes: datetime64[ns](1), float64(25), object(47)\n",
            "memory usage: 5.2+ MB\n"
          ],
          "name": "stdout"
        }
      ]
    },
    {
      "cell_type": "code",
      "metadata": {
        "id": "ddxzKi7Y9gu6"
      },
      "source": [
        ""
      ],
      "execution_count": null,
      "outputs": []
    }
  ]
}