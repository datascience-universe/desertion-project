{
  "nbformat": 4,
  "nbformat_minor": 0,
  "metadata": {
    "colab": {
      "name": "Project.ipynb",
      "provenance": [],
      "collapsed_sections": [
        "STKNOQPNsfQu"
      ],
      "toc_visible": true,
      "include_colab_link": true
    },
    "kernelspec": {
      "name": "python3",
      "display_name": "Python 3"
    }
  },
  "cells": [
    {
      "cell_type": "markdown",
      "metadata": {
        "id": "view-in-github",
        "colab_type": "text"
      },
      "source": [
        "<a href=\"https://colab.research.google.com/github/datascience-universe/desertion-project/blob/main/Project.ipynb\" target=\"_parent\"><img src=\"https://colab.research.google.com/assets/colab-badge.svg\" alt=\"Open In Colab\"/></a>"
      ]
    },
    {
      "cell_type": "markdown",
      "metadata": {
        "id": "STKNOQPNsfQu"
      },
      "source": [
        "### HABILITAR PARA TRABAJO LOCAL QUITANDO LOS SIMBOLOS (#)\r\n"
      ]
    },
    {
      "cell_type": "code",
      "metadata": {
        "id": "zXfDcxr5soXP"
      },
      "source": [
        "#HABILITAR ESTE COMANDO PARA TRABAJAR LOCALMENTE\r\n",
        "#import pandas as pd\r\n",
        "#df = pd.read_excel('db.xlsx')"
      ],
      "execution_count": null,
      "outputs": []
    },
    {
      "cell_type": "markdown",
      "metadata": {
        "id": "RLxbQ4tVtA1W"
      },
      "source": [
        "### HABILITAR PARA TRABAJO EN GOOGLE COLAB QUITANDO LOS SIMBOLOS #"
      ]
    },
    {
      "cell_type": "markdown",
      "metadata": {
        "id": "m4g5RO74gxci"
      },
      "source": [
        "**# PASO INICIAL PARA MONTAR LA UNIDAD DE GOOGLE DRIVE (UBICACION DE DOCUMENTOS EN LA UNIDAD)**"
      ]
    },
    {
      "cell_type": "code",
      "metadata": {
        "colab": {
          "base_uri": "https://localhost:8080/"
        },
        "id": "5I4a_SNUe7xS",
        "outputId": "797d9fe9-4433-4799-9fa0-a43308e76c76"
      },
      "source": [
        "from google.colab import drive\r\n",
        "drive.mount('/content/drive')\r\n",
        "from google.colab import files\r\n",
        "excel_path = '/content/drive/MyDrive/Projecto/Data/BD.xlsx'\r\n",
        "#repo = '/content/drive/MyDrive/Projecto/Colab_Notebooks/repository/edt/eda.py'"
      ],
      "execution_count": 12,
      "outputs": [
        {
          "output_type": "stream",
          "text": [
            "Mounted at /content/drive\n"
          ],
          "name": "stdout"
        }
      ]
    },
    {
      "cell_type": "code",
      "metadata": {
        "colab": {
          "base_uri": "https://localhost:8080/"
        },
        "id": "a3ZqKl653KC0",
        "outputId": "6d5df415-4f40-46ba-e4ef-3213a1c26490"
      },
      "source": [
        "drive.flush_and_unmount()"
      ],
      "execution_count": null,
      "outputs": [
        {
          "output_type": "stream",
          "text": [
            "Drive not mounted, so nothing to flush and unmount.\n"
          ],
          "name": "stdout"
        }
      ]
    },
    {
      "cell_type": "code",
      "metadata": {
        "id": "v4Eq4Qeg2Fva"
      },
      "source": [
        "from google.colab import drive\n",
        "drive.mount('/content/drive')"
      ],
      "execution_count": null,
      "outputs": []
    },
    {
      "cell_type": "markdown",
      "metadata": {
        "id": "77jzI4mSrc9K"
      },
      "source": [
        "# **PROYECTO DE DESERCION**"
      ]
    },
    {
      "cell_type": "markdown",
      "metadata": {
        "id": "5SiM0HACgwTU"
      },
      "source": [
        "### BLOQUE DE IMPORTACION DE PAQUETES\r\n",
        "\r\n",
        "\r\n",
        "\r\n",
        "\r\n"
      ]
    },
    {
      "cell_type": "markdown",
      "metadata": {
        "id": "JTZ78QHosLj0"
      },
      "source": [
        "EXTERNOS"
      ]
    },
    {
      "cell_type": "code",
      "metadata": {
        "id": "ODC_AjHjsIuF"
      },
      "source": [
        "import pandas as pd\r\n",
        "import matplotlib.pyplot as plt\r\n",
        "import seaborn as sns\r\n",
        "sns.set()"
      ],
      "execution_count": null,
      "outputs": []
    },
    {
      "cell_type": "markdown",
      "metadata": {
        "id": "LLbftO0KsW49"
      },
      "source": [
        "INTERNOS"
      ]
    },
    {
      "cell_type": "code",
      "metadata": {
        "id": "C61QnjkNsHic"
      },
      "source": [
        "%cd '/content/drive/MyDrive/Projecto/Colab_Notebooks/repository/edt/'\r\n",
        "%pwd\r\n",
        "# from eda import  exploracion_de_datos\r\n",
        "!python eda.py"
      ],
      "execution_count": null,
      "outputs": []
    },
    {
      "cell_type": "markdown",
      "metadata": {
        "id": "-SE1YG4kt3WX"
      },
      "source": [
        "# ANALISIS EXPLORATORIO"
      ]
    },
    {
      "cell_type": "markdown",
      "metadata": {
        "id": "1vcCiFQRuRL1"
      },
      "source": [
        "CREACION DEL DATAFRAME"
      ]
    },
    {
      "cell_type": "code",
      "metadata": {
        "id": "GJYoQeEiFx9j"
      },
      "source": [
        "df = pd.read_excel(excel_path)\r\n",
        "df.head(2)"
      ],
      "execution_count": null,
      "outputs": []
    },
    {
      "cell_type": "code",
      "metadata": {
        "id": "Whvy4LT-hVhD"
      },
      "source": [
        "df.info()\r\n",
        "\r\n"
      ],
      "execution_count": null,
      "outputs": []
    },
    {
      "cell_type": "markdown",
      "metadata": {
        "id": "YkN8XOdcvWk_"
      },
      "source": [
        "TRAMIENTO DE LAS COLUMNAS"
      ]
    },
    {
      "cell_type": "markdown",
      "metadata": {
        "id": "TN_HY5CM8IFa"
      },
      "source": [
        "#Tratativa das colunas"
      ]
    },
    {
      "cell_type": "code",
      "metadata": {
        "id": "PEyo61v48aLj"
      },
      "source": [
        "def exploracion_de_datos(df):\r\n",
        "    \"\"\"funcion que toma por argumento el DataFrame y \r\n",
        "    genera un objeto de tipo DataFrame con detalles de \r\n",
        "    los datos agregando una columna llamada descripcion \r\n",
        "    donde se detallaran cada variable \"\"\"\r\n",
        "\r\n",
        "    \r\n",
        "    columns = ['Variable','Tipo_variable','Valores_nulos','%_nulos' ,'Ejemplo', 'Definicion' ]\r\n",
        "    definicion = ['' for i in range(len(df))]\r\n",
        "    # Get the columns into a list\r\n",
        "    variables = list(df.columns)\r\n",
        "  \r\n",
        "    # Iterate over each dtypes to get variables type []\r\n",
        "    variable_type = [ 'Cualitativa' if col_type == 'object' else 'Numerica' if col_type == 'float64' else 'Hora-Fecha' if col_type == 'datetime64[ns]' else 'unknow' for col_type in df.dtypes ]\r\n",
        "    \r\n",
        "    # get nulls of every variable\r\n",
        "    null_count = list(df.isnull().sum())\r\n",
        "\r\n",
        "    # get nulls of every variable\r\n",
        "    porcentaje_de_nulos = round(df.isnull().sum()*100 / len(df),0)\r\n",
        "    porcentaje_de_nulos.astype('int32')\r\n",
        "    # get value not null of a random row\r\n",
        "    ejemplar_no_nulo = list(df[:1000].dropna(axis=0).iloc[0])\r\n",
        "           \r\n",
        "    # zip all the lists in to a master list and then convert into a DataFrame\r\n",
        "    ejemplar = list(zip(variables,variable_type,null_count,porcentaje_de_nulos, ejemplar_no_nulo, definicion))\r\n",
        "\r\n",
        "    # Initialize empty DataFrame: data\r\n",
        "    general_data_frame = pd.DataFrame(ejemplar, columns=columns)\r\n",
        "    \r\n",
        "    #Export to Excel in Drive\r\n",
        "    general_data_frame.to_excel('/content/drive/MyDrive/Projecto/Descripcion_de_datos.xlsx')\r\n",
        "\r\n",
        "    # return \r\n",
        "    return general_data_frame\r\n",
        "\r\n",
        "\r\n",
        "\r\n",
        "\r\n",
        "      \r\n",
        "\r\n",
        "    "
      ],
      "execution_count": null,
      "outputs": []
    },
    {
      "cell_type": "code",
      "metadata": {
        "id": "gYeAqHaxNbaF"
      },
      "source": [
        "# df_description = exploracion_de_datos(df)\r\n",
        "import eda \r\n"
      ],
      "execution_count": null,
      "outputs": []
    },
    {
      "cell_type": "code",
      "metadata": {
        "id": "ghvuyRrzRDir"
      },
      "source": [
        "eda."
      ],
      "execution_count": null,
      "outputs": []
    },
    {
      "cell_type": "markdown",
      "metadata": {
        "id": "s3er7Bht8Axy"
      },
      "source": [
        "#Eliminar variables con valores nulos mayores a 30%"
      ]
    },
    {
      "cell_type": "code",
      "metadata": {
        "id": "bRs_Ni6s8Ks_"
      },
      "source": [
        "a_eliminar = ['Estado_Civil',\r\n",
        "'Tramo_Renta',\r\n",
        "'Cargo',\r\n",
        "'Area_Trabajo',\r\n",
        "'Ppal_Forma_Financiamiento',\r\n",
        "'Conoc_IACC',\r\n",
        "'Conoc_Plan_Estudios',\r\n",
        "'Conoc_Perfil_Egreso',\r\n",
        "'Anos_Ultimos_Estudios',\r\n",
        "'Promedio_Media',\r\n",
        "'Tipo_Establecimiento_Media',\r\n",
        "'Entero_IACC',\r\n",
        "'Conoc_PPT',\r\n",
        "'Futuro_Profesional',\r\n",
        "'confidence(No Desertor)',\r\n",
        "'confidence(Desertor)',\r\n",
        "'Etiqueta_Predicha',\r\n",
        "'Marca']"
      ],
      "execution_count": null,
      "outputs": []
    },
    {
      "cell_type": "code",
      "metadata": {
        "id": "LspWvyu58dYf"
      },
      "source": [
        "df_simplificado1 = df.drop(a_eliminar, axis=1, inplace=False)\r\n",
        "df_simplificado1.info()"
      ],
      "execution_count": null,
      "outputs": []
    },
    {
      "cell_type": "markdown",
      "metadata": {
        "id": "ryJ0OJhXFNW_"
      },
      "source": [
        "#Proceso para cambiar el nombre de variables"
      ]
    },
    {
      "cell_type": "code",
      "metadata": {
        "id": "ddxzKi7Y9gu6"
      },
      "source": [
        "df_simplificado1.columns"
      ],
      "execution_count": null,
      "outputs": []
    },
    {
      "cell_type": "code",
      "metadata": {
        "id": "cgtoU86iGzM1"
      },
      "source": [
        "#incluir todas las vairables para cambiar la capitalizacion\r\n",
        "\r\n",
        "df_simplificado1.rename(columns={'Codcli': 'codcli', \r\n",
        "                   'NOMBRE_CARRERA': 'carrera', \r\n",
        "                   'Tipo_Programa': 'tipo_programa',\r\n",
        "                   'Participacion_Curso_Induccion':'partic_curso_ind',\r\n",
        "                   'Forma_Pago':'forma_pago',\r\n",
        "                   'Porc_Beca':'%_beca',\r\n",
        "                   'Nivel_Cognitivo': 'cognitivo',\r\n",
        "                   'Nivel_Instrumental':'instrumental',\r\n",
        "                   'Nivel_Socioafectivo':'socioafectivo',\r\n",
        "                   'Hom_Conv':'hom_convalidadas', \r\n",
        "                   'Edad_Contestar_Kat': 'edad',\r\n",
        "                   'Sexo_Kat': 'sexo',\r\n",
        "                   'Estado_Civil_Kat': 'edo_civil',\r\n",
        "                   'Tiene_Hijos_Kat': 'num_hijos',\r\n",
        "                   'Nivel_estudios_padre_Kat': 'estud_padre',\r\n",
        "                   'Nivel_estudios_madre_Kat': 'estud_madre',\r\n",
        "                   'trabajo_remunerado_Kat': 'trab_remun',\r\n",
        "                   'tramo_renta_Kat': 'tramo_renta',\r\n",
        "                   'cargo_Kat': 'cargo',\r\n",
        "                   'area_trabaja_Kat': 'area_trabajo',\r\n",
        "                   'ppal_forma_financiamiento_Kat':'form_financ' ,\r\n",
        "                   'evaluo_otras_instituciones_Kat': 'eval_otras_inst',\r\n",
        "\r\n",
        "                   'ppal_institucion_evaluada_Kat': 'ppal_institucion_evaluada',\r\n",
        "                   'evaluo_otras_modalidades_Kat': 'evaluo_otras_modalidades',\r\n",
        "                   'Cuanto_sabe_IACC_Kat': 'sabe_sobre_IACC',\r\n",
        "                   'Cuanto_sabe_modalidad_Kat': 'sabe_modalidad',\r\n",
        "                   'Cuanto_sabe_nivel_exigencia_Kat': 'sabe_nivel_exigencia',\r\n",
        "                   'cuanto_sabe_plan_estudios_Kat': 'sabe_plan_estudios',\r\n",
        "                   'Cuanto_sabe_perfil_egreso_kat': 'sabe_perfil_egreso',\r\n",
        "                   'Cuanto_sabe_empleabilidad_Kat': 'sabe_empleabilidad',\r\n",
        "                   'horario_conectarse_Kat': 'horario_de_conex',\r\n",
        "                   'tiene_titulo_profesional_Kat': 'titulo_prof',\r\n",
        "                   'tiene_estudios_incompletos_Kat': 'estud_incompl',\r\n",
        "                   'años_ultima_vez_estudios_formales_Kat': 'tiempo_sin_estudiar',\r\n",
        "                   'año_egreso_enseñanza_media_Kat': 'fin_secundaria',\r\n",
        "                   'promedio_enseñanza_media_Kat': 'promedio_secundaria',\r\n",
        "                   'tipo_establecimiento_media_Kat': 'tipo_insti_secundaria',\r\n",
        "                   'como_entero_IACC_Kat': 'conoce_IACC_por',\r\n",
        "                   'BD_programacion_Kat': 'sabe_programarBD',\r\n",
        "                   'Word_Kat': 'sabe_word', \r\n",
        "                   'Excel_Kat': 'sabe_xlsx',\r\n",
        "                   'Presentaciones_PPT_Kat': 'sabe_pptx',\r\n",
        "                   'Multimedia_Kat': 'sabe_multimedia',\r\n",
        "                   'apoyo_academico_Kat': 'apoyo_academico',\r\n",
        "                   'futuro_profesional_kat': 'obj_de_egreso',\r\n",
        "                   'experiencia_E.S.': 'experiencia_E.S.',\r\n",
        "                   'Ingreso al aula el estudiante': 'ingreso_al_aula',\r\n",
        "                  #  'Participacion_1': '',\r\n",
        "                  #  'Participacion_2': '',\r\n",
        "                  #  'Participacion_3': '',\r\n",
        "                  #  'Participacion_4': '',\r\n",
        "                  #  'Participacion_5': '',\r\n",
        "                  #  'Participacion_6': '',\r\n",
        "                  #  'Participacion_7': '',\r\n",
        "                  #  'Participacion_8': '',\r\n",
        "                  #  'Participacion_9': '',\r\n",
        "                   'Prom_part': '',\r\n",
        "                   'Nota_1': '',\r\n",
        "                   'Nota_2': '',\r\n",
        "                   'Nota_3': '',\r\n",
        "                   'Nota_4': '',\r\n",
        "                   'Nota_5': '',\r\n",
        "                   'Nota_6': '',\r\n",
        "                   'Nota_7': '',\r\n",
        "                   'Nota_8': '',\r\n",
        "                   'Nota_9': '',\r\n",
        "                  #  'Nota_prom'\r\n",
        "                   }, inplace=True)"
      ],
      "execution_count": null,
      "outputs": []
    },
    {
      "cell_type": "code",
      "metadata": {
        "id": "Ki3QoXekdma7"
      },
      "source": [
        "df_simplificado1.head()"
      ],
      "execution_count": null,
      "outputs": []
    },
    {
      "cell_type": "code",
      "metadata": {
        "id": "xt98O9UoevIB"
      },
      "source": [
        "df_simplificado1.info()"
      ],
      "execution_count": null,
      "outputs": []
    },
    {
      "cell_type": "code",
      "metadata": {
        "id": "5GXASB8YlTtn"
      },
      "source": [
        ""
      ],
      "execution_count": null,
      "outputs": []
    },
    {
      "cell_type": "code",
      "metadata": {
        "id": "HNWJiV6bfEO3"
      },
      "source": [
        "df_simplificado1.partic_curso_ind.hist()"
      ],
      "execution_count": null,
      "outputs": []
    },
    {
      "cell_type": "code",
      "metadata": {
        "id": "QS3LE5jsf_jH"
      },
      "source": [
        "palette_colors = {\"No Desertor\": \"green\", \"Desertor\": \"red\"}\r\n",
        "sns.countplot(x=\"partic_curso_ind\", data=df_simplificado1,\r\n",
        "              hue=\"Etiqueta_Real\",\r\n",
        "              palette=palette_colors)\r\n",
        "plt.show()"
      ],
      "execution_count": null,
      "outputs": []
    },
    {
      "cell_type": "code",
      "metadata": {
        "id": "fXl1cWnvlUkN"
      },
      "source": [
        "\r\n",
        "\r\n",
        "g = sns.FacetGrid(df_simplificado1, col=\"partic_curso_ind\", hue=\"Etiqueta_Real\")\r\n",
        "g.map(sns.histplot, \"partic_curso_ind\", \"Etiqueta_Real\", alpha=.4)\r\n",
        "g.add_legend()"
      ],
      "execution_count": null,
      "outputs": []
    },
    {
      "cell_type": "code",
      "metadata": {
        "id": "wadpLnKCofM7"
      },
      "source": [
        "g = sns.PairGrid(df_simplificado1, hue=\"Etiqueta_Real\")\r\n",
        "g.map_diag(sns.histplot)\r\n",
        "g.map_offdiag(sns.scatterplot)\r\n",
        "g.add_legend()"
      ],
      "execution_count": null,
      "outputs": []
    }
  ]
}