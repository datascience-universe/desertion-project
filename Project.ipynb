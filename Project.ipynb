{
  "nbformat": 4,
  "nbformat_minor": 0,
  "metadata": {
    "colab": {
      "name": "Project.ipynb",
      "provenance": [],
      "collapsed_sections": [
        "STKNOQPNsfQu",
        "RLxbQ4tVtA1W"
      ],
      "authorship_tag": "ABX9TyO25EmlGfxMC934uvh4OYb3",
      "include_colab_link": true
    },
    "kernelspec": {
      "name": "python3",
      "display_name": "Python 3"
    }
  },
  "cells": [
    {
      "cell_type": "markdown",
      "metadata": {
        "id": "view-in-github",
        "colab_type": "text"
      },
      "source": [
        "<a href=\"https://colab.research.google.com/github/datascience-universe/desertion-project/blob/main/Project.ipynb\" target=\"_parent\"><img src=\"https://colab.research.google.com/assets/colab-badge.svg\" alt=\"Open In Colab\"/></a>"
      ]
    },
    {
      "cell_type": "markdown",
      "metadata": {
        "id": "STKNOQPNsfQu"
      },
      "source": [
        "### HABILITAR PARA TRABAJO LOCAL QUITANDO LOS SIMBOLOS #\r\n"
      ]
    },
    {
      "cell_type": "code",
      "metadata": {
        "id": "zXfDcxr5soXP"
      },
      "source": [
        "#HABILITAR ESTE COMANDO PARA TRABAJAR LOCALMENTE\r\n",
        "#import pandas as pd\r\n",
        "#df = pd.read_excel('db.xlsx')"
      ],
      "execution_count": null,
      "outputs": []
    },
    {
      "cell_type": "markdown",
      "metadata": {
        "id": "RLxbQ4tVtA1W"
      },
      "source": [
        "### HABILITAR PARA TRABAJO EN GOOGLE COLAB QUITANDO LOS SIMBOLOS #"
      ]
    },
    {
      "cell_type": "markdown",
      "metadata": {
        "id": "m4g5RO74gxci"
      },
      "source": [
        "**# PASO INICIAL PARA MONTAR LA UNIDAD DE GOOGLE DRIVE (UBICACION DE DOCUMENTOS EN LA UNIDAD)**"
      ]
    },
    {
      "cell_type": "code",
      "metadata": {
        "colab": {
          "base_uri": "https://localhost:8080/"
        },
        "id": "5I4a_SNUe7xS",
        "outputId": "fc4635d8-d2ec-41a4-a8ff-a450ca6eb53a"
      },
      "source": [
        "from google.colab import drive\r\n",
        "drive.mount('/content/drive')\r\n",
        "from google.colab import files\r\n",
        "excel_path = '/content/drive/MyDrive/Projecto/Data/BD.xlsx'"
      ],
      "execution_count": 3,
      "outputs": [
        {
          "output_type": "stream",
          "text": [
            "Drive already mounted at /content/drive; to attempt to forcibly remount, call drive.mount(\"/content/drive\", force_remount=True).\n"
          ],
          "name": "stdout"
        }
      ]
    },
    {
      "cell_type": "markdown",
      "metadata": {
        "id": "77jzI4mSrc9K"
      },
      "source": [
        "# **PROYECTO DE DESERCION**"
      ]
    },
    {
      "cell_type": "markdown",
      "metadata": {
        "id": "5SiM0HACgwTU"
      },
      "source": [
        "### BLOQUE DE IMPORTACION DE PAQUETES\r\n",
        "\r\n",
        "\r\n",
        "\r\n",
        "\r\n"
      ]
    },
    {
      "cell_type": "markdown",
      "metadata": {
        "id": "JTZ78QHosLj0"
      },
      "source": [
        "EXTERNOS"
      ]
    },
    {
      "cell_type": "code",
      "metadata": {
        "id": "ODC_AjHjsIuF"
      },
      "source": [
        "import pandas as pd\r\n"
      ],
      "execution_count": 4,
      "outputs": []
    },
    {
      "cell_type": "markdown",
      "metadata": {
        "id": "LLbftO0KsW49"
      },
      "source": [
        "INTERNOS"
      ]
    },
    {
      "cell_type": "code",
      "metadata": {
        "id": "C61QnjkNsHic"
      },
      "source": [
        ""
      ],
      "execution_count": null,
      "outputs": []
    },
    {
      "cell_type": "markdown",
      "metadata": {
        "id": "-SE1YG4kt3WX"
      },
      "source": [
        "# ANALISIS EXPLORATORIO"
      ]
    },
    {
      "cell_type": "markdown",
      "metadata": {
        "id": "1vcCiFQRuRL1"
      },
      "source": [
        "CREACION DEL DATAFRAME"
      ]
    },
    {
      "cell_type": "code",
      "metadata": {
        "colab": {
          "base_uri": "https://localhost:8080/",
          "height": 381
        },
        "id": "GJYoQeEiFx9j",
        "outputId": "0eb46f81-6aa2-4564-d7e9-3dcdcc3b6add"
      },
      "source": [
        "df = pd.read_excel(excel_path)\r\n",
        "df.head(3)"
      ],
      "execution_count": 7,
      "outputs": [
        {
          "output_type": "execute_result",
          "data": {
            "text/html": [
              "<div>\n",
              "<style scoped>\n",
              "    .dataframe tbody tr th:only-of-type {\n",
              "        vertical-align: middle;\n",
              "    }\n",
              "\n",
              "    .dataframe tbody tr th {\n",
              "        vertical-align: top;\n",
              "    }\n",
              "\n",
              "    .dataframe thead th {\n",
              "        text-align: right;\n",
              "    }\n",
              "</style>\n",
              "<table border=\"1\" class=\"dataframe\">\n",
              "  <thead>\n",
              "    <tr style=\"text-align: right;\">\n",
              "      <th></th>\n",
              "      <th>Codcli</th>\n",
              "      <th>PEM</th>\n",
              "      <th>NOMBRE_CARRERA</th>\n",
              "      <th>Tipo_Programa</th>\n",
              "      <th>Participacion_Curso_Induccion</th>\n",
              "      <th>Forma_Pago</th>\n",
              "      <th>Porc_Beca</th>\n",
              "      <th>Nivel_Cognitivo</th>\n",
              "      <th>Nivel_Instrumental</th>\n",
              "      <th>Nivel_Socioafectivo</th>\n",
              "      <th>Hom_Conv</th>\n",
              "      <th>Estado_Civil</th>\n",
              "      <th>Tramo_Renta</th>\n",
              "      <th>Cargo</th>\n",
              "      <th>Area_Trabajo</th>\n",
              "      <th>Ppal_Forma_Financiamiento</th>\n",
              "      <th>Conoc_IACC</th>\n",
              "      <th>Conoc_Plan_Estudios</th>\n",
              "      <th>Conoc_Perfil_Egreso</th>\n",
              "      <th>Anos_Ultimos_Estudios</th>\n",
              "      <th>Promedio_Media</th>\n",
              "      <th>Tipo_Establecimiento_Media</th>\n",
              "      <th>Entero_IACC</th>\n",
              "      <th>Conoc_PPT</th>\n",
              "      <th>Futuro_Profesional</th>\n",
              "      <th>confidence(No Desertor)</th>\n",
              "      <th>confidence(Desertor)</th>\n",
              "      <th>Etiqueta_Predicha</th>\n",
              "      <th>Etiqueta_Real</th>\n",
              "      <th>Marca</th>\n",
              "      <th>Edad_Contestar_Kat</th>\n",
              "      <th>Sexo_Kat</th>\n",
              "      <th>Estado_Civil_Kat</th>\n",
              "      <th>Tiene_Hijos_Kat</th>\n",
              "      <th>Nivel_estudios_padre_Kat</th>\n",
              "      <th>Nivel_estudios_madre_Kat</th>\n",
              "      <th>trabajo_remunerado_Kat</th>\n",
              "      <th>tramo_renta_Kat</th>\n",
              "      <th>cargo_Kat</th>\n",
              "      <th>area_trabaja_Kat</th>\n",
              "      <th>...</th>\n",
              "      <th>cuanto_sabe_plan_estudios_Kat</th>\n",
              "      <th>Cuanto_sabe_perfil_egreso_kat</th>\n",
              "      <th>Cuanto_sabe_empleabilidad_Kat</th>\n",
              "      <th>horario_conectarse_Kat</th>\n",
              "      <th>tiene_titulo_profesional_Kat</th>\n",
              "      <th>tiene_estudios_incompletos_Kat</th>\n",
              "      <th>años_ultima_vez_estudios_formales_Kat</th>\n",
              "      <th>año_egreso_enseñanza_media_Kat</th>\n",
              "      <th>promedio_enseñanza_media_Kat</th>\n",
              "      <th>tipo_establecimiento_media_Kat</th>\n",
              "      <th>como_entero_IACC_Kat</th>\n",
              "      <th>BD_programacion_Kat</th>\n",
              "      <th>Word_Kat</th>\n",
              "      <th>Excel_Kat</th>\n",
              "      <th>Presentaciones_PPT_Kat</th>\n",
              "      <th>Multimedia_Kat</th>\n",
              "      <th>apoyo_academico_Kat</th>\n",
              "      <th>futuro_profesional_kat</th>\n",
              "      <th>experiencia_E.S.</th>\n",
              "      <th>Ingreso al aula el estudiante</th>\n",
              "      <th>Participacion_1</th>\n",
              "      <th>Participacion_2</th>\n",
              "      <th>Participacion_3</th>\n",
              "      <th>Participacion_4</th>\n",
              "      <th>Participacion_5</th>\n",
              "      <th>Participacion_6</th>\n",
              "      <th>Participacion_7</th>\n",
              "      <th>Participacion_8</th>\n",
              "      <th>Participacion_9</th>\n",
              "      <th>Prom_part</th>\n",
              "      <th>Nota_1</th>\n",
              "      <th>Nota_2</th>\n",
              "      <th>Nota_3</th>\n",
              "      <th>Nota_4</th>\n",
              "      <th>Nota_5</th>\n",
              "      <th>Nota_6</th>\n",
              "      <th>Nota_7</th>\n",
              "      <th>Nota_8</th>\n",
              "      <th>Nota_9</th>\n",
              "      <th>Nota_prom</th>\n",
              "    </tr>\n",
              "  </thead>\n",
              "  <tbody>\n",
              "    <tr>\n",
              "      <th>0</th>\n",
              "      <td>20203PCIAE065</td>\n",
              "      <td>2020-03-31</td>\n",
              "      <td>PROGRAMA DE CONTINUIDAD EN INGENIERÍA EN ADMIN...</td>\n",
              "      <td>CONTINUIDAD</td>\n",
              "      <td>Participa en a lo menos una actividad</td>\n",
              "      <td>CONTADO</td>\n",
              "      <td>0.3</td>\n",
              "      <td>3. MEDIO</td>\n",
              "      <td>3. MEDIO</td>\n",
              "      <td>3. MEDIO</td>\n",
              "      <td>SI</td>\n",
              "      <td>NaN</td>\n",
              "      <td>NaN</td>\n",
              "      <td>NaN</td>\n",
              "      <td>NaN</td>\n",
              "      <td>NaN</td>\n",
              "      <td>NaN</td>\n",
              "      <td>NaN</td>\n",
              "      <td>NaN</td>\n",
              "      <td>NaN</td>\n",
              "      <td>NaN</td>\n",
              "      <td>NaN</td>\n",
              "      <td>NaN</td>\n",
              "      <td>NaN</td>\n",
              "      <td>NaN</td>\n",
              "      <td>0.533886</td>\n",
              "      <td>0.466114</td>\n",
              "      <td>No Desertor</td>\n",
              "      <td>No Desertor</td>\n",
              "      <td>x</td>\n",
              "      <td>NaN</td>\n",
              "      <td>NaN</td>\n",
              "      <td>NaN</td>\n",
              "      <td>NaN</td>\n",
              "      <td>NaN</td>\n",
              "      <td>NaN</td>\n",
              "      <td>NaN</td>\n",
              "      <td>NaN</td>\n",
              "      <td>NaN</td>\n",
              "      <td>NaN</td>\n",
              "      <td>...</td>\n",
              "      <td>NaN</td>\n",
              "      <td>NaN</td>\n",
              "      <td>NaN</td>\n",
              "      <td>NaN</td>\n",
              "      <td>NaN</td>\n",
              "      <td>NaN</td>\n",
              "      <td>NaN</td>\n",
              "      <td>NaN</td>\n",
              "      <td>NaN</td>\n",
              "      <td>NaN</td>\n",
              "      <td>NaN</td>\n",
              "      <td>NaN</td>\n",
              "      <td>NaN</td>\n",
              "      <td>NaN</td>\n",
              "      <td>NaN</td>\n",
              "      <td>NaN</td>\n",
              "      <td>NaN</td>\n",
              "      <td>NaN</td>\n",
              "      <td>NaN</td>\n",
              "      <td>Ingreso al aula de todas sus asignaturas</td>\n",
              "      <td>1.0</td>\n",
              "      <td>1.0</td>\n",
              "      <td>1.0</td>\n",
              "      <td>1.0</td>\n",
              "      <td>1.0</td>\n",
              "      <td>1.0</td>\n",
              "      <td>1.0</td>\n",
              "      <td>1.0</td>\n",
              "      <td>1.0</td>\n",
              "      <td>1.0</td>\n",
              "      <td>8.2</td>\n",
              "      <td>8.85</td>\n",
              "      <td>9.0</td>\n",
              "      <td>8.4</td>\n",
              "      <td>8.35</td>\n",
              "      <td>8.50</td>\n",
              "      <td>7.85</td>\n",
              "      <td>8.65</td>\n",
              "      <td>26.0</td>\n",
              "      <td>6.5660</td>\n",
              "    </tr>\n",
              "    <tr>\n",
              "      <th>1</th>\n",
              "      <td>20203PCIND101</td>\n",
              "      <td>2020-03-31</td>\n",
              "      <td>PROGRAMA DE CONTINUIDAD EN INGENIERÍA INDUSTRIAL</td>\n",
              "      <td>CONTINUIDAD</td>\n",
              "      <td>No ha participado</td>\n",
              "      <td>CHEQUE</td>\n",
              "      <td>0.3</td>\n",
              "      <td>NaN</td>\n",
              "      <td>NaN</td>\n",
              "      <td>NaN</td>\n",
              "      <td>SI</td>\n",
              "      <td>Casado</td>\n",
              "      <td>600.001 a 800.000</td>\n",
              "      <td>Asistente/Administrativo</td>\n",
              "      <td>Industrial</td>\n",
              "      <td>Recursos Propios.</td>\n",
              "      <td>Mucho</td>\n",
              "      <td>Poco</td>\n",
              "      <td>Poco</td>\n",
              "      <td>1 Año</td>\n",
              "      <td>4.5</td>\n",
              "      <td>Municipal</td>\n",
              "      <td>Google</td>\n",
              "      <td>Nivel Medio</td>\n",
              "      <td>Optar a un mejor cargo o sueldo en nuevo trabajo</td>\n",
              "      <td>0.774788</td>\n",
              "      <td>0.225212</td>\n",
              "      <td>No Desertor</td>\n",
              "      <td>No Desertor</td>\n",
              "      <td>x</td>\n",
              "      <td>38.0</td>\n",
              "      <td>Masculino</td>\n",
              "      <td>Casado</td>\n",
              "      <td>1 Hijo</td>\n",
              "      <td>Media</td>\n",
              "      <td>Media</td>\n",
              "      <td>SI</td>\n",
              "      <td>600.001 a 800.000</td>\n",
              "      <td>Asistente/Administrativo</td>\n",
              "      <td>Industrial</td>\n",
              "      <td>...</td>\n",
              "      <td>Poco</td>\n",
              "      <td>Poco</td>\n",
              "      <td>Nada</td>\n",
              "      <td>Entre las 18:00 a 23:00 horas.</td>\n",
              "      <td>SI</td>\n",
              "      <td>NO</td>\n",
              "      <td>1 Año</td>\n",
              "      <td>2001</td>\n",
              "      <td>4.5</td>\n",
              "      <td>Municipal</td>\n",
              "      <td>Google</td>\n",
              "      <td>Nivel Básico</td>\n",
              "      <td>Nivel Medio</td>\n",
              "      <td>Nivel Medio</td>\n",
              "      <td>Nivel Medio</td>\n",
              "      <td>Nivel Medio</td>\n",
              "      <td>Orientación Profesional.</td>\n",
              "      <td>Optar a un mejor cargo o sueldo en nuevo trabajo</td>\n",
              "      <td>Sí</td>\n",
              "      <td>Ingreso al aula de todas sus asignaturas</td>\n",
              "      <td>1.0</td>\n",
              "      <td>1.0</td>\n",
              "      <td>1.0</td>\n",
              "      <td>1.0</td>\n",
              "      <td>1.0</td>\n",
              "      <td>1.0</td>\n",
              "      <td>1.0</td>\n",
              "      <td>1.0</td>\n",
              "      <td>1.0</td>\n",
              "      <td>1.0</td>\n",
              "      <td>8.0</td>\n",
              "      <td>9.00</td>\n",
              "      <td>8.5</td>\n",
              "      <td>9.0</td>\n",
              "      <td>9.00</td>\n",
              "      <td>8.75</td>\n",
              "      <td>9.00</td>\n",
              "      <td>9.00</td>\n",
              "      <td>27.5</td>\n",
              "      <td>6.8425</td>\n",
              "    </tr>\n",
              "    <tr>\n",
              "      <th>2</th>\n",
              "      <td>20203PCIAE011</td>\n",
              "      <td>2020-03-31</td>\n",
              "      <td>PROGRAMA DE CONTINUIDAD EN INGENIERÍA EN ADMIN...</td>\n",
              "      <td>CONTINUIDAD</td>\n",
              "      <td>Participa en a lo menos una actividad</td>\n",
              "      <td>CHEQUE</td>\n",
              "      <td>0.3</td>\n",
              "      <td>3. MEDIO</td>\n",
              "      <td>4. MEDIO ALTO</td>\n",
              "      <td>4. MEDIO ALTO</td>\n",
              "      <td>SI</td>\n",
              "      <td>Casado</td>\n",
              "      <td>600.001 a 800.000</td>\n",
              "      <td>Supervisor</td>\n",
              "      <td>Administración/Comercio/Retail</td>\n",
              "      <td>Recursos Propios.</td>\n",
              "      <td>Poco</td>\n",
              "      <td>Poco</td>\n",
              "      <td>Poco</td>\n",
              "      <td>1 Año</td>\n",
              "      <td>5.5</td>\n",
              "      <td>Particular Subvencionado</td>\n",
              "      <td>Google</td>\n",
              "      <td>Nivel Básico</td>\n",
              "      <td>Mejorar cargo o remuneraciones en trabajo actual</td>\n",
              "      <td>0.914460</td>\n",
              "      <td>0.085540</td>\n",
              "      <td>No Desertor</td>\n",
              "      <td>No Desertor</td>\n",
              "      <td>x</td>\n",
              "      <td>36.0</td>\n",
              "      <td>Masculino</td>\n",
              "      <td>Casado</td>\n",
              "      <td>Sin Hijos</td>\n",
              "      <td>Básica</td>\n",
              "      <td>Básica</td>\n",
              "      <td>SI</td>\n",
              "      <td>600.001 a 800.000</td>\n",
              "      <td>Supervisor</td>\n",
              "      <td>Administración/Comercio/Retail</td>\n",
              "      <td>...</td>\n",
              "      <td>Poco</td>\n",
              "      <td>Poco</td>\n",
              "      <td>Nada</td>\n",
              "      <td>Entre las 18:00 a 23:00 horas.</td>\n",
              "      <td>SI</td>\n",
              "      <td>NO</td>\n",
              "      <td>1 Año</td>\n",
              "      <td>1997</td>\n",
              "      <td>5.5</td>\n",
              "      <td>Particular Subvencionado</td>\n",
              "      <td>Google</td>\n",
              "      <td>Nivel Básico</td>\n",
              "      <td>Nivel Básico</td>\n",
              "      <td>Nivel Básico</td>\n",
              "      <td>Nivel Básico</td>\n",
              "      <td>Nivel Básico</td>\n",
              "      <td>Orientación Profesional.</td>\n",
              "      <td>Mejorar cargo o remuneraciones en trabajo actual</td>\n",
              "      <td>Sí</td>\n",
              "      <td>Ingreso al aula de todas sus asignaturas</td>\n",
              "      <td>1.0</td>\n",
              "      <td>1.0</td>\n",
              "      <td>1.0</td>\n",
              "      <td>1.0</td>\n",
              "      <td>1.0</td>\n",
              "      <td>1.0</td>\n",
              "      <td>1.0</td>\n",
              "      <td>1.0</td>\n",
              "      <td>1.0</td>\n",
              "      <td>1.0</td>\n",
              "      <td>8.6</td>\n",
              "      <td>8.35</td>\n",
              "      <td>9.0</td>\n",
              "      <td>9.0</td>\n",
              "      <td>8.80</td>\n",
              "      <td>9.00</td>\n",
              "      <td>8.60</td>\n",
              "      <td>8.65</td>\n",
              "      <td>27.5</td>\n",
              "      <td>6.8250</td>\n",
              "    </tr>\n",
              "  </tbody>\n",
              "</table>\n",
              "<p>3 rows × 87 columns</p>\n",
              "</div>"
            ],
            "text/plain": [
              "          Codcli        PEM  ... Nota_9 Nota_prom\n",
              "0  20203PCIAE065 2020-03-31  ...   26.0    6.5660\n",
              "1  20203PCIND101 2020-03-31  ...   27.5    6.8425\n",
              "2  20203PCIAE011 2020-03-31  ...   27.5    6.8250\n",
              "\n",
              "[3 rows x 87 columns]"
            ]
          },
          "metadata": {
            "tags": []
          },
          "execution_count": 7
        }
      ]
    },
    {
      "cell_type": "code",
      "metadata": {
        "colab": {
          "base_uri": "https://localhost:8080/"
        },
        "id": "Whvy4LT-hVhD",
        "outputId": "7b87217b-bb30-47bd-effd-8b685057bc45"
      },
      "source": [
        "df.info()\r\n",
        "\r\n"
      ],
      "execution_count": 8,
      "outputs": [
        {
          "output_type": "stream",
          "text": [
            "<class 'pandas.core.frame.DataFrame'>\n",
            "RangeIndex: 9405 entries, 0 to 9404\n",
            "Data columns (total 87 columns):\n",
            " #   Column                                 Non-Null Count  Dtype         \n",
            "---  ------                                 --------------  -----         \n",
            " 0   Codcli                                 9405 non-null   object        \n",
            " 1   PEM                                    9405 non-null   datetime64[ns]\n",
            " 2   NOMBRE_CARRERA                         9405 non-null   object        \n",
            " 3   Tipo_Programa                          9405 non-null   object        \n",
            " 4   Participacion_Curso_Induccion          9319 non-null   object        \n",
            " 5   Forma_Pago                             9248 non-null   object        \n",
            " 6   Porc_Beca                              9248 non-null   float64       \n",
            " 7   Nivel_Cognitivo                        7208 non-null   object        \n",
            " 8   Nivel_Instrumental                     7208 non-null   object        \n",
            " 9   Nivel_Socioafectivo                    6355 non-null   object        \n",
            " 10  Hom_Conv                               9398 non-null   object        \n",
            " 11  Estado_Civil                           4993 non-null   object        \n",
            " 12  Tramo_Renta                            4993 non-null   object        \n",
            " 13  Cargo                                  4993 non-null   object        \n",
            " 14  Area_Trabajo                           4993 non-null   object        \n",
            " 15  Ppal_Forma_Financiamiento              4993 non-null   object        \n",
            " 16  Conoc_IACC                             4993 non-null   object        \n",
            " 17  Conoc_Plan_Estudios                    4993 non-null   object        \n",
            " 18  Conoc_Perfil_Egreso                    4993 non-null   object        \n",
            " 19  Anos_Ultimos_Estudios                  4993 non-null   object        \n",
            " 20  Promedio_Media                         4993 non-null   float64       \n",
            " 21  Tipo_Establecimiento_Media             4993 non-null   object        \n",
            " 22  Entero_IACC                            4993 non-null   object        \n",
            " 23  Conoc_PPT                              4993 non-null   object        \n",
            " 24  Futuro_Profesional                     4993 non-null   object        \n",
            " 25  confidence(No Desertor)                9405 non-null   float64       \n",
            " 26  confidence(Desertor)                   9405 non-null   float64       \n",
            " 27  Etiqueta_Predicha                      9405 non-null   object        \n",
            " 28  Etiqueta_Real                          9405 non-null   object        \n",
            " 29  Marca                                  9405 non-null   object        \n",
            " 30  Edad_Contestar_Kat                     6649 non-null   float64       \n",
            " 31  Sexo_Kat                               6649 non-null   object        \n",
            " 32  Estado_Civil_Kat                       6649 non-null   object        \n",
            " 33  Tiene_Hijos_Kat                        6649 non-null   object        \n",
            " 34  Nivel_estudios_padre_Kat               6649 non-null   object        \n",
            " 35  Nivel_estudios_madre_Kat               6649 non-null   object        \n",
            " 36  trabajo_remunerado_Kat                 6649 non-null   object        \n",
            " 37  tramo_renta_Kat                        6649 non-null   object        \n",
            " 38  cargo_Kat                              6649 non-null   object        \n",
            " 39  area_trabaja_Kat                       6649 non-null   object        \n",
            " 40  ppal_forma_financiamiento_Kat          6649 non-null   object        \n",
            " 41  evaluo_otras_instituciones_Kat         6649 non-null   object        \n",
            " 42  ppal_institucion_evaluada_Kat          6649 non-null   object        \n",
            " 43  evaluo_otras_modalidades_Kat           6649 non-null   object        \n",
            " 44  Cuanto_sabe_IACC_Kat                   6649 non-null   object        \n",
            " 45  Cuanto_sabe_modalidad_Kat              6649 non-null   object        \n",
            " 46  Cuanto_sabe_nivel_exigencia_Kat        6649 non-null   object        \n",
            " 47  cuanto_sabe_plan_estudios_Kat          6649 non-null   object        \n",
            " 48  Cuanto_sabe_perfil_egreso_kat          6649 non-null   object        \n",
            " 49  Cuanto_sabe_empleabilidad_Kat          6649 non-null   object        \n",
            " 50  horario_conectarse_Kat                 6649 non-null   object        \n",
            " 51  tiene_titulo_profesional_Kat           6649 non-null   object        \n",
            " 52  tiene_estudios_incompletos_Kat         6649 non-null   object        \n",
            " 53  años_ultima_vez_estudios_formales_Kat  6649 non-null   object        \n",
            " 54  año_egreso_enseñanza_media_Kat         6649 non-null   object        \n",
            " 55  promedio_enseñanza_media_Kat           6649 non-null   float64       \n",
            " 56  tipo_establecimiento_media_Kat         6649 non-null   object        \n",
            " 57  como_entero_IACC_Kat                   6649 non-null   object        \n",
            " 58  BD_programacion_Kat                    6649 non-null   object        \n",
            " 59  Word_Kat                               6649 non-null   object        \n",
            " 60  Excel_Kat                              6649 non-null   object        \n",
            " 61  Presentaciones_PPT_Kat                 6649 non-null   object        \n",
            " 62  Multimedia_Kat                         6649 non-null   object        \n",
            " 63  apoyo_academico_Kat                    6649 non-null   object        \n",
            " 64  futuro_profesional_kat                 6649 non-null   object        \n",
            " 65  experiencia_E.S.                       6649 non-null   object        \n",
            " 66  Ingreso al aula el estudiante          9405 non-null   object        \n",
            " 67  Participacion_1                        9405 non-null   float64       \n",
            " 68  Participacion_2                        9405 non-null   float64       \n",
            " 69  Participacion_3                        9405 non-null   float64       \n",
            " 70  Participacion_4                        9405 non-null   float64       \n",
            " 71  Participacion_5                        9405 non-null   float64       \n",
            " 72  Participacion_6                        9405 non-null   float64       \n",
            " 73  Participacion_7                        9405 non-null   float64       \n",
            " 74  Participacion_8                        9405 non-null   float64       \n",
            " 75  Participacion_9                        9405 non-null   float64       \n",
            " 76  Prom_part                              9193 non-null   float64       \n",
            " 77  Nota_1                                 9405 non-null   float64       \n",
            " 78  Nota_2                                 9405 non-null   float64       \n",
            " 79  Nota_3                                 9405 non-null   float64       \n",
            " 80  Nota_4                                 9405 non-null   float64       \n",
            " 81  Nota_5                                 9405 non-null   float64       \n",
            " 82  Nota_6                                 9405 non-null   float64       \n",
            " 83  Nota_7                                 9405 non-null   float64       \n",
            " 84  Nota_8                                 9405 non-null   float64       \n",
            " 85  Nota_9                                 9405 non-null   float64       \n",
            " 86  Nota_prom                              8623 non-null   float64       \n",
            "dtypes: datetime64[ns](1), float64(26), object(60)\n",
            "memory usage: 6.2+ MB\n"
          ],
          "name": "stdout"
        }
      ]
    },
    {
      "cell_type": "markdown",
      "metadata": {
        "id": "YkN8XOdcvWk_"
      },
      "source": [
        "TRAMIENTO DE LAS COLUMNAS"
      ]
    },
    {
      "cell_type": "code",
      "metadata": {
        "id": "5Whwe_8eiWM5",
        "colab": {
          "base_uri": "https://localhost:8080/",
          "height": 451
        },
        "outputId": "82115438-68c6-4130-9965-77b8a1600f3f"
      },
      "source": [
        "def exploracion_de_datos(df,tipo_arch):\r\n",
        "    \"\"\"funcion que toma por argumento el path y tipo de archivo\r\n",
        "    para generar un objeto de tipo DataFrame con detalles de los \r\n",
        "    datos agregando una columna llamada descripcion donde se detallaran cada variable \"\"\"\r\n",
        "\r\n",
        "    # Initialize reader object: urb_pop_reader\r\n",
        "    urb_pop_reader = pd.read_csv(filename, chunksize=1000)\r\n",
        "\r\n",
        "    # Initialize empty DataFrame: data\r\n",
        "    data = pd.DataFrame()\r\n",
        "    \r\n",
        "    # Iterate over each DataFrame chunk\r\n",
        "    for df_urb_pop in urb_pop_reader:\r\n",
        "        # Check out specific country: df_pop_ceb\r\n",
        "        df_pop_ceb = df_urb_pop[df_urb_pop['CountryCode'] == country_code]\r\n",
        "\r\n",
        "        # Zip DataFrame columns of interest: pops\r\n",
        "        pops = zip(df_pop_ceb['Total Population'],\r\n",
        "                    df_pop_ceb['Urban population (% of total)'])\r\n",
        "\r\n",
        "        # Turn zip object into list: pops_list\r\n",
        "        pops_list = list(pops)\r\n",
        "\r\n",
        "        # Use list comprehension to create new DataFrame column 'Total Urban Population'\r\n",
        "        df_pop_ceb['Total Urban Population'] = [int(tup[0] * tup[1] * 0.01) for tup in pops_list]\r\n",
        "    \r\n",
        "        # Append DataFrame chunk to data: data\r\n",
        "        data = data.append(df_pop_ceb)\r\n",
        "\r\n",
        "    # Plot urban population data\r\n",
        "    data.plot(kind='scatter', x='Year', y='Total Urban Population')\r\n",
        "    plt.show()\r\n",
        "\r\n",
        "# Set the filename: fn\r\n",
        "fn = 'ind_pop_data.csv'\r\n",
        "\r\n",
        "# Call plot_pop for country code 'CEB'\r\n",
        "plot_pop(fn, 'CEB' )\r\n",
        "\r\n",
        "# Call plot_pop for country code 'ARB'\r\n",
        "plot_pop(fn, 'ARB' )"
      ],
      "execution_count": 11,
      "outputs": [
        {
          "output_type": "error",
          "ename": "FileNotFoundError",
          "evalue": "ignored",
          "traceback": [
            "\u001b[0;31m---------------------------------------------------------------------------\u001b[0m",
            "\u001b[0;31mFileNotFoundError\u001b[0m                         Traceback (most recent call last)",
            "\u001b[0;32m<ipython-input-11-bd95b31cd1b9>\u001b[0m in \u001b[0;36m<module>\u001b[0;34m()\u001b[0m\n\u001b[1;32m     35\u001b[0m \u001b[0;34m\u001b[0m\u001b[0m\n\u001b[1;32m     36\u001b[0m \u001b[0;31m# Call plot_pop for country code 'CEB'\u001b[0m\u001b[0;34m\u001b[0m\u001b[0;34m\u001b[0m\u001b[0;34m\u001b[0m\u001b[0m\n\u001b[0;32m---> 37\u001b[0;31m \u001b[0mplot_pop\u001b[0m\u001b[0;34m(\u001b[0m\u001b[0mfn\u001b[0m\u001b[0;34m,\u001b[0m \u001b[0;34m'CEB'\u001b[0m \u001b[0;34m)\u001b[0m\u001b[0;34m\u001b[0m\u001b[0;34m\u001b[0m\u001b[0m\n\u001b[0m\u001b[1;32m     38\u001b[0m \u001b[0;34m\u001b[0m\u001b[0m\n\u001b[1;32m     39\u001b[0m \u001b[0;31m# Call plot_pop for country code 'ARB'\u001b[0m\u001b[0;34m\u001b[0m\u001b[0;34m\u001b[0m\u001b[0;34m\u001b[0m\u001b[0m\n",
            "\u001b[0;32m<ipython-input-9-2d7ce7186b1d>\u001b[0m in \u001b[0;36mplot_pop\u001b[0;34m(filename, country_code)\u001b[0m\n\u001b[1;32m      2\u001b[0m \u001b[0;34m\u001b[0m\u001b[0m\n\u001b[1;32m      3\u001b[0m     \u001b[0;31m# Initialize reader object: urb_pop_reader\u001b[0m\u001b[0;34m\u001b[0m\u001b[0;34m\u001b[0m\u001b[0;34m\u001b[0m\u001b[0m\n\u001b[0;32m----> 4\u001b[0;31m     \u001b[0murb_pop_reader\u001b[0m \u001b[0;34m=\u001b[0m \u001b[0mpd\u001b[0m\u001b[0;34m.\u001b[0m\u001b[0mread_csv\u001b[0m\u001b[0;34m(\u001b[0m\u001b[0mfilename\u001b[0m\u001b[0;34m,\u001b[0m \u001b[0mchunksize\u001b[0m\u001b[0;34m=\u001b[0m\u001b[0;36m1000\u001b[0m\u001b[0;34m)\u001b[0m\u001b[0;34m\u001b[0m\u001b[0;34m\u001b[0m\u001b[0m\n\u001b[0m\u001b[1;32m      5\u001b[0m \u001b[0;34m\u001b[0m\u001b[0m\n\u001b[1;32m      6\u001b[0m     \u001b[0;31m# Initialize empty DataFrame: data\u001b[0m\u001b[0;34m\u001b[0m\u001b[0;34m\u001b[0m\u001b[0;34m\u001b[0m\u001b[0m\n",
            "\u001b[0;32m/usr/local/lib/python3.6/dist-packages/pandas/io/parsers.py\u001b[0m in \u001b[0;36mread_csv\u001b[0;34m(filepath_or_buffer, sep, delimiter, header, names, index_col, usecols, squeeze, prefix, mangle_dupe_cols, dtype, engine, converters, true_values, false_values, skipinitialspace, skiprows, skipfooter, nrows, na_values, keep_default_na, na_filter, verbose, skip_blank_lines, parse_dates, infer_datetime_format, keep_date_col, date_parser, dayfirst, cache_dates, iterator, chunksize, compression, thousands, decimal, lineterminator, quotechar, quoting, doublequote, escapechar, comment, encoding, dialect, error_bad_lines, warn_bad_lines, delim_whitespace, low_memory, memory_map, float_precision)\u001b[0m\n\u001b[1;32m    686\u001b[0m     )\n\u001b[1;32m    687\u001b[0m \u001b[0;34m\u001b[0m\u001b[0m\n\u001b[0;32m--> 688\u001b[0;31m     \u001b[0;32mreturn\u001b[0m \u001b[0m_read\u001b[0m\u001b[0;34m(\u001b[0m\u001b[0mfilepath_or_buffer\u001b[0m\u001b[0;34m,\u001b[0m \u001b[0mkwds\u001b[0m\u001b[0;34m)\u001b[0m\u001b[0;34m\u001b[0m\u001b[0;34m\u001b[0m\u001b[0m\n\u001b[0m\u001b[1;32m    689\u001b[0m \u001b[0;34m\u001b[0m\u001b[0m\n\u001b[1;32m    690\u001b[0m \u001b[0;34m\u001b[0m\u001b[0m\n",
            "\u001b[0;32m/usr/local/lib/python3.6/dist-packages/pandas/io/parsers.py\u001b[0m in \u001b[0;36m_read\u001b[0;34m(filepath_or_buffer, kwds)\u001b[0m\n\u001b[1;32m    452\u001b[0m \u001b[0;34m\u001b[0m\u001b[0m\n\u001b[1;32m    453\u001b[0m     \u001b[0;31m# Create the parser.\u001b[0m\u001b[0;34m\u001b[0m\u001b[0;34m\u001b[0m\u001b[0;34m\u001b[0m\u001b[0m\n\u001b[0;32m--> 454\u001b[0;31m     \u001b[0mparser\u001b[0m \u001b[0;34m=\u001b[0m \u001b[0mTextFileReader\u001b[0m\u001b[0;34m(\u001b[0m\u001b[0mfp_or_buf\u001b[0m\u001b[0;34m,\u001b[0m \u001b[0;34m**\u001b[0m\u001b[0mkwds\u001b[0m\u001b[0;34m)\u001b[0m\u001b[0;34m\u001b[0m\u001b[0;34m\u001b[0m\u001b[0m\n\u001b[0m\u001b[1;32m    455\u001b[0m \u001b[0;34m\u001b[0m\u001b[0m\n\u001b[1;32m    456\u001b[0m     \u001b[0;32mif\u001b[0m \u001b[0mchunksize\u001b[0m \u001b[0;32mor\u001b[0m \u001b[0miterator\u001b[0m\u001b[0;34m:\u001b[0m\u001b[0;34m\u001b[0m\u001b[0;34m\u001b[0m\u001b[0m\n",
            "\u001b[0;32m/usr/local/lib/python3.6/dist-packages/pandas/io/parsers.py\u001b[0m in \u001b[0;36m__init__\u001b[0;34m(self, f, engine, **kwds)\u001b[0m\n\u001b[1;32m    946\u001b[0m             \u001b[0mself\u001b[0m\u001b[0;34m.\u001b[0m\u001b[0moptions\u001b[0m\u001b[0;34m[\u001b[0m\u001b[0;34m\"has_index_names\"\u001b[0m\u001b[0;34m]\u001b[0m \u001b[0;34m=\u001b[0m \u001b[0mkwds\u001b[0m\u001b[0;34m[\u001b[0m\u001b[0;34m\"has_index_names\"\u001b[0m\u001b[0;34m]\u001b[0m\u001b[0;34m\u001b[0m\u001b[0;34m\u001b[0m\u001b[0m\n\u001b[1;32m    947\u001b[0m \u001b[0;34m\u001b[0m\u001b[0m\n\u001b[0;32m--> 948\u001b[0;31m         \u001b[0mself\u001b[0m\u001b[0;34m.\u001b[0m\u001b[0m_make_engine\u001b[0m\u001b[0;34m(\u001b[0m\u001b[0mself\u001b[0m\u001b[0;34m.\u001b[0m\u001b[0mengine\u001b[0m\u001b[0;34m)\u001b[0m\u001b[0;34m\u001b[0m\u001b[0;34m\u001b[0m\u001b[0m\n\u001b[0m\u001b[1;32m    949\u001b[0m \u001b[0;34m\u001b[0m\u001b[0m\n\u001b[1;32m    950\u001b[0m     \u001b[0;32mdef\u001b[0m \u001b[0mclose\u001b[0m\u001b[0;34m(\u001b[0m\u001b[0mself\u001b[0m\u001b[0;34m)\u001b[0m\u001b[0;34m:\u001b[0m\u001b[0;34m\u001b[0m\u001b[0;34m\u001b[0m\u001b[0m\n",
            "\u001b[0;32m/usr/local/lib/python3.6/dist-packages/pandas/io/parsers.py\u001b[0m in \u001b[0;36m_make_engine\u001b[0;34m(self, engine)\u001b[0m\n\u001b[1;32m   1178\u001b[0m     \u001b[0;32mdef\u001b[0m \u001b[0m_make_engine\u001b[0m\u001b[0;34m(\u001b[0m\u001b[0mself\u001b[0m\u001b[0;34m,\u001b[0m \u001b[0mengine\u001b[0m\u001b[0;34m=\u001b[0m\u001b[0;34m\"c\"\u001b[0m\u001b[0;34m)\u001b[0m\u001b[0;34m:\u001b[0m\u001b[0;34m\u001b[0m\u001b[0;34m\u001b[0m\u001b[0m\n\u001b[1;32m   1179\u001b[0m         \u001b[0;32mif\u001b[0m \u001b[0mengine\u001b[0m \u001b[0;34m==\u001b[0m \u001b[0;34m\"c\"\u001b[0m\u001b[0;34m:\u001b[0m\u001b[0;34m\u001b[0m\u001b[0;34m\u001b[0m\u001b[0m\n\u001b[0;32m-> 1180\u001b[0;31m             \u001b[0mself\u001b[0m\u001b[0;34m.\u001b[0m\u001b[0m_engine\u001b[0m \u001b[0;34m=\u001b[0m \u001b[0mCParserWrapper\u001b[0m\u001b[0;34m(\u001b[0m\u001b[0mself\u001b[0m\u001b[0;34m.\u001b[0m\u001b[0mf\u001b[0m\u001b[0;34m,\u001b[0m \u001b[0;34m**\u001b[0m\u001b[0mself\u001b[0m\u001b[0;34m.\u001b[0m\u001b[0moptions\u001b[0m\u001b[0;34m)\u001b[0m\u001b[0;34m\u001b[0m\u001b[0;34m\u001b[0m\u001b[0m\n\u001b[0m\u001b[1;32m   1181\u001b[0m         \u001b[0;32melse\u001b[0m\u001b[0;34m:\u001b[0m\u001b[0;34m\u001b[0m\u001b[0;34m\u001b[0m\u001b[0m\n\u001b[1;32m   1182\u001b[0m             \u001b[0;32mif\u001b[0m \u001b[0mengine\u001b[0m \u001b[0;34m==\u001b[0m \u001b[0;34m\"python\"\u001b[0m\u001b[0;34m:\u001b[0m\u001b[0;34m\u001b[0m\u001b[0;34m\u001b[0m\u001b[0m\n",
            "\u001b[0;32m/usr/local/lib/python3.6/dist-packages/pandas/io/parsers.py\u001b[0m in \u001b[0;36m__init__\u001b[0;34m(self, src, **kwds)\u001b[0m\n\u001b[1;32m   2008\u001b[0m         \u001b[0mkwds\u001b[0m\u001b[0;34m[\u001b[0m\u001b[0;34m\"usecols\"\u001b[0m\u001b[0;34m]\u001b[0m \u001b[0;34m=\u001b[0m \u001b[0mself\u001b[0m\u001b[0;34m.\u001b[0m\u001b[0musecols\u001b[0m\u001b[0;34m\u001b[0m\u001b[0;34m\u001b[0m\u001b[0m\n\u001b[1;32m   2009\u001b[0m \u001b[0;34m\u001b[0m\u001b[0m\n\u001b[0;32m-> 2010\u001b[0;31m         \u001b[0mself\u001b[0m\u001b[0;34m.\u001b[0m\u001b[0m_reader\u001b[0m \u001b[0;34m=\u001b[0m \u001b[0mparsers\u001b[0m\u001b[0;34m.\u001b[0m\u001b[0mTextReader\u001b[0m\u001b[0;34m(\u001b[0m\u001b[0msrc\u001b[0m\u001b[0;34m,\u001b[0m \u001b[0;34m**\u001b[0m\u001b[0mkwds\u001b[0m\u001b[0;34m)\u001b[0m\u001b[0;34m\u001b[0m\u001b[0;34m\u001b[0m\u001b[0m\n\u001b[0m\u001b[1;32m   2011\u001b[0m         \u001b[0mself\u001b[0m\u001b[0;34m.\u001b[0m\u001b[0munnamed_cols\u001b[0m \u001b[0;34m=\u001b[0m \u001b[0mself\u001b[0m\u001b[0;34m.\u001b[0m\u001b[0m_reader\u001b[0m\u001b[0;34m.\u001b[0m\u001b[0munnamed_cols\u001b[0m\u001b[0;34m\u001b[0m\u001b[0;34m\u001b[0m\u001b[0m\n\u001b[1;32m   2012\u001b[0m \u001b[0;34m\u001b[0m\u001b[0m\n",
            "\u001b[0;32mpandas/_libs/parsers.pyx\u001b[0m in \u001b[0;36mpandas._libs.parsers.TextReader.__cinit__\u001b[0;34m()\u001b[0m\n",
            "\u001b[0;32mpandas/_libs/parsers.pyx\u001b[0m in \u001b[0;36mpandas._libs.parsers.TextReader._setup_parser_source\u001b[0;34m()\u001b[0m\n",
            "\u001b[0;31mFileNotFoundError\u001b[0m: [Errno 2] No such file or directory: 'ind_pop_data.csv'"
          ]
        }
      ]
    },
    {
      "cell_type": "markdown",
      "metadata": {
        "id": "TN_HY5CM8IFa"
      },
      "source": [
        "#Tratativa das colunas"
      ]
    },
    {
      "cell_type": "code",
      "metadata": {
        "id": "LCTR0fZD74Xb"
      },
      "source": [
        "columns = df.columns"
      ],
      "execution_count": null,
      "outputs": []
    },
    {
      "cell_type": "code",
      "metadata": {
        "colab": {
          "base_uri": "https://localhost:8080/"
        },
        "id": "3ukwGMSI71lc",
        "outputId": "93caa14b-fff2-44dc-e6bd-097067f9e3c9"
      },
      "source": [
        "columns"
      ],
      "execution_count": null,
      "outputs": [
        {
          "output_type": "execute_result",
          "data": {
            "text/plain": [
              "Index(['Codcli', 'PEM', 'NOMBRE_CARRERA', 'Tipo_Programa',\n",
              "       'Participacion_Curso_Induccion', 'Forma_Pago', 'Porc_Beca',\n",
              "       'Nivel_Cognitivo', 'Nivel_Instrumental', 'Nivel_Socioafectivo',\n",
              "       'Hom_Conv', 'Estado_Civil', 'Tramo_Renta', 'Cargo', 'Area_Trabajo',\n",
              "       'Ppal_Forma_Financiamiento', 'Conoc_IACC', 'Conoc_Plan_Estudios',\n",
              "       'Conoc_Perfil_Egreso', 'Anos_Ultimos_Estudios', 'Promedio_Media',\n",
              "       'Tipo_Establecimiento_Media', 'Entero_IACC', 'Conoc_PPT',\n",
              "       'Futuro_Profesional', 'confidence(No Desertor)', 'confidence(Desertor)',\n",
              "       'Etiqueta_Predicha', 'Etiqueta_Real', 'Marca', 'Edad_Contestar_Kat',\n",
              "       'Sexo_Kat', 'Estado_Civil_Kat', 'Tiene_Hijos_Kat',\n",
              "       'Nivel_estudios_padre_Kat', 'Nivel_estudios_madre_Kat',\n",
              "       'trabajo_remunerado_Kat', 'tramo_renta_Kat', 'cargo_Kat',\n",
              "       'area_trabaja_Kat', 'ppal_forma_financiamiento_Kat',\n",
              "       'evaluo_otras_instituciones_Kat', 'ppal_institucion_evaluada_Kat',\n",
              "       'evaluo_otras_modalidades_Kat', 'Cuanto_sabe_IACC_Kat',\n",
              "       'Cuanto_sabe_modalidad_Kat', 'Cuanto_sabe_nivel_exigencia_Kat',\n",
              "       'cuanto_sabe_plan_estudios_Kat', 'Cuanto_sabe_perfil_egreso_kat',\n",
              "       'Cuanto_sabe_empleabilidad_Kat', 'horario_conectarse_Kat',\n",
              "       'tiene_titulo_profesional_Kat', 'tiene_estudios_incompletos_Kat',\n",
              "       'años_ultima_vez_estudios_formales_Kat',\n",
              "       'año_egreso_enseñanza_media_Kat', 'promedio_enseñanza_media_Kat',\n",
              "       'tipo_establecimiento_media_Kat', 'como_entero_IACC_Kat',\n",
              "       'BD_programacion_Kat', 'Word_Kat', 'Excel_Kat',\n",
              "       'Presentaciones_PPT_Kat', 'Multimedia_Kat', 'apoyo_academico_Kat',\n",
              "       'futuro_profesional_kat', 'experiencia_E.S.',\n",
              "       'Ingreso al aula el estudiante', 'Participacion_1', 'Participacion_2',\n",
              "       'Participacion_3', 'Participacion_4', 'Participacion_5',\n",
              "       'Participacion_6', 'Participacion_7', 'Participacion_8',\n",
              "       'Participacion_9', 'Prom_part', 'Nota_1', 'Nota_2', 'Nota_3', 'Nota_4',\n",
              "       'Nota_5', 'Nota_6', 'Nota_7', 'Nota_8', 'Nota_9', 'Nota_prom'],\n",
              "      dtype='object')"
            ]
          },
          "metadata": {
            "tags": []
          },
          "execution_count": 51
        }
      ]
    },
    {
      "cell_type": "code",
      "metadata": {
        "id": "PEyo61v48aLj"
      },
      "source": [
        ""
      ],
      "execution_count": null,
      "outputs": []
    }
  ]
}